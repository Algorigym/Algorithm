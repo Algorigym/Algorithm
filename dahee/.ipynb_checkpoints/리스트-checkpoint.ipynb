{
 "cells": [
  {
   "cell_type": "markdown",
   "metadata": {},
   "source": [
    "### Week1\n",
    "- DFS와 BFS\n",
    "    1. 바이러스(2606)\n",
    "    2. 촌수계산(2644)\n",
    "    3. 단지번호붙이기(2667)\n",
    "    4. DFS와 BFS(1260)\n",
    "    5. 미로탐색(2178)\n",
    "\n",
    "### Week2\n",
    "- DFS와 BFS\n",
    "    1. 토마토(7569)\n",
    "    2. 숨바꼭질(1697)\n",
    "    3. 스타트링크(5014)\n",
    "    4. 안전영역(2468)\n",
    "    5. 빙산(2573)\n",
    "    6. 맥주 마시면서 걸어가기(9205) - BFS & 플로이드\n",
    "\n",
    "\n",
    "### Week3\n",
    "- 구현 (https://www.acmicpc.net/problemset?sort=ac_desc&algo=102)\n",
    "    1. 로봇 청소기(14503)\n",
    "    2. 테트로미노(14500)\n",
    "    3. 치킨 배달(15686)\n",
    "\n",
    "### Week4\n",
    "- 다익스트라\n",
    "    1. 최단경로 https://www.acmicpc.net/problem/1753\n",
    "    2. 알고스팟 https://www.acmicpc.net/problem/1261\n",
    "    3. 녹색 옷 입은 애가 젤다지? https://www.acmicpc.net/problem/4485\n",
    "\n",
    "- 플로이드-와샬\n",
    "    1. 플로이드 https://www.acmicpc.net/problem/11404\n",
    "    2. 키 순서 https://www.acmicpc.net/problem/2458\n",
    "    3. 역사 https://www.acmicpc.net/problem/1613\n",
    "    \n",
    "- 다이나믹 프로그래밍 (https://www.acmicpc.net/problemset?sort=ac_desc&algo=25)\n",
    "    1. LCS https://www.acmicpc.net/problem/9251\n",
    "    2. 평범한 배낭 https://www.acmicpc.net/problem/12865\n",
    "    3. 가장 긴 바이토닉 부분 수열 https://www.acmicpc.net/problem/11054\n",
    "        - 비슷한 문제 쭉 풀어보기"
   ]
  },
  {
   "cell_type": "code",
   "execution_count": null,
   "metadata": {},
   "outputs": [],
   "source": []
  }
 ],
 "metadata": {
  "kernelspec": {
   "display_name": "Python 3",
   "language": "python",
   "name": "python3"
  },
  "language_info": {
   "codemirror_mode": {
    "name": "ipython",
    "version": 3
   },
   "file_extension": ".py",
   "mimetype": "text/x-python",
   "name": "python",
   "nbconvert_exporter": "python",
   "pygments_lexer": "ipython3",
   "version": "3.8.3"
  }
 },
 "nbformat": 4,
 "nbformat_minor": 4
}
