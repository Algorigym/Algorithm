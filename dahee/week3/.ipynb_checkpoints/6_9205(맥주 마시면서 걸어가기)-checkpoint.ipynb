{
 "cells": [
  {
   "cell_type": "markdown",
   "metadata": {},
   "source": [
    "- https://www.acmicpc.net/problem/9205\n",
    "- https://coding-dahee.tistory.com/239\n"
   ]
  },
  {
   "cell_type": "markdown",
   "metadata": {},
   "source": [
    "### 알게된 것\n",
    "1. 다익스트라 알고리즘: 하나의 정점에서 다른 모든 정점으로의 최단 거리 구하기\n",
    "2. 플로이드 와샬 알고리즘: 모든 정점에서 모든 정점으로의 최단 경로 구하기, 거쳐가는 정점을 기준으로 최단 거리를 구한다.\n",
    "    - https://mygumi.tistory.com/110\n",
    "    - https://m.blog.naver.com/PostView.nhn?blogId=ndb796&logNo=221234427842&proxyReferer=https:%2F%2Fwww.google.com%2F\n",
    "3. BFS로도 풀 수 있다고 한다.\n",
    "\n",
    "### 풀이과정\n",
    "- 집(0) 편(1) 편(2) 페(3)\n",
    "- 집(0)\n",
    "- 편(1)\n",
    "- 편(2)\n",
    "- 페(3)\n",
    "\n",
    "1. 이렇게 배열을 만든 후, 각각의 거리를 계산해서 1000 이하면 간선이 이어진걸로 한다.\n",
    "2. 플로이드 와샬 알고리즘으로 거쳐가는 정점을 기준으로 최단 거리를 구한다.\n",
    "3. 0 < 배열[집][페] < max 면 갈 수 있다는 뜻이므로 happy를 출력한다."
   ]
  },
  {
   "cell_type": "markdown",
   "metadata": {},
   "source": [
    "### 결과\n",
    "- 메모리: 124308 KB\n",
    "- 시간: 312 ms"
   ]
  },
  {
   "cell_type": "code",
   "execution_count": 23,
   "metadata": {},
   "outputs": [
    {
     "name": "stdout",
     "output_type": "stream",
     "text": [
      "2\n",
      "2\n",
      "0 0\n",
      "1000 0\n",
      "1000 1000\n",
      "2000 1000\n",
      "happy\n",
      "2\n",
      "0 0\n",
      "1000 0\n",
      "2000 1000\n",
      "2000 2000\n",
      "sad\n"
     ]
    }
   ],
   "source": [
    "# 제출\n",
    "\n",
    "max = 1000\n",
    "\n",
    "t = int(input()) # 1 <= t <= 50\n",
    "for _ in range(t):\n",
    "    n = int(input()) # 0 <= n <= 100\n",
    "    homeX, homeY = map(int, input().split())\n",
    "    stores = []\n",
    "    for _ in range(n):\n",
    "        storeX, storeY = map(int, input().split())\n",
    "        stores.append((storeX, storeY))\n",
    "    festivalX, festivalY = map(int, input().split())\n",
    "\n",
    "    graph = [[max] * (n + 2) for _ in range(n + 2)]\n",
    "    arr = [(homeX, homeY)]\n",
    "    arr.extend(stores)\n",
    "    arr.append((festivalX, festivalY))\n",
    "\n",
    "    # 정점 간 이동 가능 표시\n",
    "    for i in range(n + 2):\n",
    "        for j in range(n + 2):\n",
    "            if i == j:\n",
    "                graph[i][j] = 0\n",
    "                continue\n",
    "            x1, y1 = arr[i]\n",
    "            x2, y2 = arr[j]\n",
    "            dist = abs(x1 - x2) + abs(y1 - y2)\n",
    "            if dist <= 1000:\n",
    "                graph[i][j] = 1\n",
    "\n",
    "    for k in range(n + 2):\n",
    "        for i in range(n + 2):\n",
    "            for j in range(n + 2):\n",
    "                if graph[i][k] + graph[k][j] < graph[i][j]:\n",
    "                    graph[i][j] = graph[i][k] + graph[k][j]\n",
    "\n",
    "    if 0 < graph[0][n +1] < max:\n",
    "        print('happy')\n",
    "    else:\n",
    "        print('sad')"
   ]
  },
  {
   "cell_type": "code",
   "execution_count": 22,
   "metadata": {},
   "outputs": [
    {
     "name": "stdout",
     "output_type": "stream",
     "text": [
      "[[0, 1, 1000, 1000], [1, 0, 1000, 1000], [1000, 1000, 0, 1], [1000, 1000, 1, 0]]\n",
      "sad\n"
     ]
    }
   ],
   "source": [
    "max = 1000\n",
    "\n",
    "# n = 2\n",
    "# homeX, homeY = 0, 0\n",
    "# stores = [(1000, 0), (1000, 1000)]\n",
    "# festivalX, festivalY = 2000, 1000\n",
    "\n",
    "n = 2\n",
    "homeX, homeY = 0, 0\n",
    "stores = [(1000, 0), (2000, 1000)]\n",
    "festivalX, festivalY = 2000, 2000\n",
    "\n",
    "graph = [[max] * (n + 2) for _ in range(n + 2)]\n",
    "arr = [(homeX, homeY)]\n",
    "arr.extend(stores)\n",
    "arr.append((festivalX, festivalY))\n",
    "\n",
    "# 정점 간 이동 가능 표시\n",
    "for i in range(n + 2):\n",
    "    for j in range(n + 2):\n",
    "        if i == j:\n",
    "            graph[i][j] = 0\n",
    "            continue\n",
    "        x1, y1 = arr[i]\n",
    "        x2, y2 = arr[j]\n",
    "        dist = abs(x1 - x2) + abs(y1 - y2)\n",
    "        if dist <= 1000:\n",
    "            graph[i][j] = 1\n",
    "            \n",
    "for k in range(n + 2):\n",
    "    for i in range(n + 2):\n",
    "        for j in range(n + 2):\n",
    "            if graph[i][k] + graph[k][j] < graph[i][j]:\n",
    "                graph[i][j] = graph[i][k] + graph[k][j]\n",
    "print(graph)\n",
    "\n",
    "if 0 < graph[0][n +1] < max:\n",
    "    print('happy')\n",
    "else:\n",
    "    print('sad')"
   ]
  },
  {
   "cell_type": "code",
   "execution_count": 2,
   "metadata": {},
   "outputs": [
    {
     "name": "stdout",
     "output_type": "stream",
     "text": [
      "1\n",
      "2\n",
      "3\n",
      "4\n",
      "5\n"
     ]
    }
   ],
   "source": [
    "i = 0\n",
    "while :\n",
    "    i += 1\n",
    "    print(i)\n",
    "    if i < 5:\n",
    "        continue\n",
    "    else"
   ]
  },
  {
   "cell_type": "code",
   "execution_count": 11,
   "metadata": {},
   "outputs": [
    {
     "name": "stdout",
     "output_type": "stream",
     "text": [
      "[1, 2, 3]\n"
     ]
    }
   ],
   "source": [
    "arr = [1]\n",
    "arr.extend([2, 3])\n",
    "print(arr)"
   ]
  },
  {
   "cell_type": "code",
   "execution_count": 12,
   "metadata": {},
   "outputs": [
    {
     "name": "stdout",
     "output_type": "stream",
     "text": [
      "True\n"
     ]
    }
   ],
   "source": [
    "print((1, 2) == (1, 2))"
   ]
  },
  {
   "cell_type": "code",
   "execution_count": null,
   "metadata": {},
   "outputs": [],
   "source": []
  }
 ],
 "metadata": {
  "kernelspec": {
   "display_name": "Python 3",
   "language": "python",
   "name": "python3"
  },
  "language_info": {
   "codemirror_mode": {
    "name": "ipython",
    "version": 3
   },
   "file_extension": ".py",
   "mimetype": "text/x-python",
   "name": "python",
   "nbconvert_exporter": "python",
   "pygments_lexer": "ipython3",
   "version": "3.8.3"
  }
 },
 "nbformat": 4,
 "nbformat_minor": 4
}
