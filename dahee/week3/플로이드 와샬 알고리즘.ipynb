{
 "cells": [
  {
   "cell_type": "markdown",
   "metadata": {},
   "source": [
    "- '거쳐가는 정점'을 기준으로 최단 거리를 구하는 것이다."
   ]
  },
  {
   "cell_type": "code",
   "execution_count": 6,
   "metadata": {},
   "outputs": [
    {
     "name": "stdout",
     "output_type": "stream",
     "text": [
      "[[0, 5, 1000, 8], [7, 0, 9, 1000], [2, 1000, 0, 4], [1000, 1000, 3, 0]]\n",
      "[[0, 5, 11, 8], [7, 0, 9, 13], [2, 7, 0, 4], [5, 10, 3, 0]]\n"
     ]
    }
   ],
   "source": [
    "n = 4\n",
    "max = 1000\n",
    "graph = [\n",
    "    [0, 5, max, 8],\n",
    "    [7, 0, 9, max],\n",
    "    [2, max, 0, 4],\n",
    "    [max, max, 3, 0]\n",
    "]\n",
    "print(graph)    \n",
    "\n",
    "for k in range(n):\n",
    "    for i in range(n):\n",
    "        for j in range(n):\n",
    "            if graph[i][k] + graph[k][j] < graph[i][j]:\n",
    "                graph[i][j] = graph[i][k] + graph[k][j]\n",
    "                \n",
    "print(graph)\n",
    "\n"
   ]
  },
  {
   "cell_type": "code",
   "execution_count": null,
   "metadata": {},
   "outputs": [],
   "source": []
  }
 ],
 "metadata": {
  "kernelspec": {
   "display_name": "Python 3",
   "language": "python",
   "name": "python3"
  },
  "language_info": {
   "codemirror_mode": {
    "name": "ipython",
    "version": 3
   },
   "file_extension": ".py",
   "mimetype": "text/x-python",
   "name": "python",
   "nbconvert_exporter": "python",
   "pygments_lexer": "ipython3",
   "version": "3.8.3"
  }
 },
 "nbformat": 4,
 "nbformat_minor": 4
}
