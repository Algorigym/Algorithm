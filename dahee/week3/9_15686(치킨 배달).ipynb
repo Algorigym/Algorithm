{
 "cells": [
  {
   "cell_type": "markdown",
   "metadata": {},
   "source": [
    "https://www.acmicpc.net/problem/15686"
   ]
  },
  {
   "cell_type": "markdown",
   "metadata": {},
   "source": [
    "### 결과\n",
    "메모리 129520 KB\n",
    "시간 308 ms\n",
    "\n",
    "### 생각 과정\n",
    "1. 치킨집의 조합을 구해야겠다. => 라이브러리, 직접구현 2가지 방법 찾음\n",
    "2. city 처음부터 끝까지 bfs로 치킨집과의 거리를 구해야하나? 아니다. 집마다 치킨집과의 거리를 직접 구하면 된다.\n",
    "3. chickens, homes, combinations\n",
    "\n",
    "### 알게된 것\n",
    "- 조합\n",
    "- (*) continue 넣으면 시간 줄어든다\n",
    "- (**) counts array 만들고 min(counts) 해도 4 ms 차이밖에 안남."
   ]
  },
  {
   "cell_type": "code",
   "execution_count": 37,
   "metadata": {},
   "outputs": [
    {
     "name": "stdout",
     "output_type": "stream",
     "text": [
      "32\n"
     ]
    }
   ],
   "source": [
    "# 0: 빈 칸\n",
    "# 1: 집\n",
    "# 2: 치킨집\n",
    "# 집의 개수는 2N개를 넘지 않으며, 적어도 1개는 존재한다.\n",
    "# 치킨집의 개수는 M보다 크거나 같고, 13보다 작거나 같다.\n",
    "\n",
    "N, M = map(int, input().split())\n",
    "city = [list( map(int, input().split()) ) for _ in range(N)]\n",
    "\n",
    "# N, M = 5, 1\n",
    "# city = [\n",
    "#     [1, 2, 0, 2, 1],\n",
    "#     [1, 2, 0, 2, 1],\n",
    "#     [1, 2, 0, 2, 1],\n",
    "#     [1, 2, 0, 2, 1],\n",
    "#     [1, 2, 0, 2, 1]\n",
    "# ]\n",
    "\n",
    "def combinations(array, r):\n",
    "    for i in range(len(array)):\n",
    "        if r == 1: # 종료 조건\n",
    "            yield [array[i]]\n",
    "        else:\n",
    "            for next in combinations(array[i+1:], r-1):\n",
    "                yield [array[i]] + next\n",
    "\n",
    "# 1. 치킨집 주소의 array 모으기\n",
    "chickens = []\n",
    "homes = []\n",
    "for i in range(N):\n",
    "    for j in range(N):\n",
    "        if city[i][j] == 1:\n",
    "            homes.append((i, j))\n",
    "            continue # (*) 넣었더니 48ms 줄어듦\n",
    "        if city[i][j] == 2:\n",
    "            chickens.append((i, j))\n",
    "\n",
    "minDist = 9999\n",
    "for selectedChickens in combinations(chickens, M):\n",
    "    totalDist = 0\n",
    "    for hr, hc in homes:\n",
    "        minCount = 9999\n",
    "        for cr, cc in selectedChickens:\n",
    "            dist = abs(hr - cr) + abs(hc - cc)\n",
    "            if dist < minCount:\n",
    "                minCount = dist # (**) counts array 만들고 min(counts) 해도 4 ms 차이밖에 안남.\n",
    "        totalDist += minCount\n",
    "    if totalDist < minDist:\n",
    "        minDist = totalDist\n",
    "    \n",
    "print(minDist)\n"
   ]
  },
  {
   "cell_type": "code",
   "execution_count": null,
   "metadata": {},
   "outputs": [],
   "source": [
    "# 5\n",
    "N, M = 5, 3\n",
    "city = [\n",
    "  [0, 0, 1, 0, 0],\n",
    "  [0, 0, 2, 0, 1],\n",
    "  [0, 1, 2, 0, 0],\n",
    "  [0, 0, 1, 0, 0],\n",
    "  [0, 0, 0, 0, 2]\n",
    "]"
   ]
  },
  {
   "cell_type": "code",
   "execution_count": null,
   "metadata": {},
   "outputs": [],
   "source": [
    "# 10\n",
    "N, M = 5, 2\n",
    "city = [\n",
    "  [0, 2, 0, 1, 0],\n",
    "  [1, 0, 1, 0, 0],\n",
    "  [0, 0, 0, 0, 0],\n",
    "  [2, 0, 0, 1, 1],\n",
    "  [2, 2, 0, 1, 2]\n",
    "]"
   ]
  },
  {
   "cell_type": "code",
   "execution_count": null,
   "metadata": {},
   "outputs": [],
   "source": [
    "# 11\n",
    "N, M = 5, 1\n",
    "city = [\n",
    "    [1, 2, 0, 0, 0],\n",
    "    [1, 2, 0, 0, 0],\n",
    "    [1, 2, 0, 0, 0],\n",
    "    [1, 2, 0, 0, 0],\n",
    "    [1, 2, 0, 0, 0]\n",
    "]"
   ]
  },
  {
   "cell_type": "code",
   "execution_count": null,
   "metadata": {},
   "outputs": [],
   "source": [
    "# 32\n",
    "N, M = 5, 1\n",
    "city = [\n",
    "    [1, 2, 0, 2, 1],\n",
    "    [1, 2, 0, 2, 1],\n",
    "    [1, 2, 0, 2, 1],\n",
    "    [1, 2, 0, 2, 1],\n",
    "    [1, 2, 0, 2, 1]\n",
    "]"
   ]
  },
  {
   "cell_type": "code",
   "execution_count": 1,
   "metadata": {},
   "outputs": [
    {
     "name": "stdout",
     "output_type": "stream",
     "text": [
      "[(1, 2), (1, 3), (1, 4), (2, 3), (2, 4), (3, 4)]\n",
      "[(1, 2), (1, 3), (1, 4), (2, 1), (2, 3), (2, 4), (3, 1), (3, 2), (3, 4), (4, 1), (4, 2), (4, 3)]\n"
     ]
    }
   ],
   "source": [
    "# 조합\n",
    "from itertools import permutations\n",
    "from itertools import combinations\n",
    "\n",
    "a = []\n",
    "b = []\n",
    "items= [1,2,3,4]\n",
    "for i in list(combinations(items,2)):\n",
    "    a.append(i)\n",
    "print(a)\n",
    "\n",
    "for i in list(permutations(items,2)):\n",
    "    b.append(i)\n",
    "print(b)"
   ]
  },
  {
   "cell_type": "code",
   "execution_count": 18,
   "metadata": {},
   "outputs": [
    {
     "ename": "SyntaxError",
     "evalue": "invalid syntax (<ipython-input-18-c20cbab3143d>, line 14)",
     "output_type": "error",
     "traceback": [
      "\u001b[0;36m  File \u001b[0;32m\"<ipython-input-18-c20cbab3143d>\"\u001b[0;36m, line \u001b[0;32m14\u001b[0m\n\u001b[0;31m    if r === 1:\u001b[0m\n\u001b[0m           ^\u001b[0m\n\u001b[0;31mSyntaxError\u001b[0m\u001b[0;31m:\u001b[0m invalid syntax\n"
     ]
    }
   ],
   "source": [
    "def combinations(array, r):\n",
    "    print(array, r)\n",
    "    for i in range(len(array)):\n",
    "        if r == 1: # 종료 조건\n",
    "            yield [array[i]]\n",
    "        else:\n",
    "            for next in combinations(array[i+1:], r-1):\n",
    "                print('✅',next)\n",
    "                yield [array[i]] + next\n",
    "                \n",
    "result = []\n",
    "for i in combinations([1,2,3,4], 3):\n",
    "    result.append(i)\n",
    "print('----------------')\n",
    "print(result)\n",
    "# 출처: https://juhee-maeng.tistory.com/91 [BIU]"
   ]
  },
  {
   "cell_type": "code",
   "execution_count": 7,
   "metadata": {},
   "outputs": [
    {
     "name": "stdout",
     "output_type": "stream",
     "text": [
      "[1, 2]\n"
     ]
    }
   ],
   "source": [
    "a = [1] + [2]\n",
    "print(a)"
   ]
  },
  {
   "cell_type": "code",
   "execution_count": null,
   "metadata": {},
   "outputs": [],
   "source": []
  }
 ],
 "metadata": {
  "kernelspec": {
   "display_name": "Python 3",
   "language": "python",
   "name": "python3"
  },
  "language_info": {
   "codemirror_mode": {
    "name": "ipython",
    "version": 3
   },
   "file_extension": ".py",
   "mimetype": "text/x-python",
   "name": "python",
   "nbconvert_exporter": "python",
   "pygments_lexer": "ipython3",
   "version": "3.8.3"
  }
 },
 "nbformat": 4,
 "nbformat_minor": 4
}
