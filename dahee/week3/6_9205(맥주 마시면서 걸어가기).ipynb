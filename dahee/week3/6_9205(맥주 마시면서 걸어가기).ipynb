{
 "cells": [
  {
   "cell_type": "markdown",
   "metadata": {},
   "source": [
    "https://www.acmicpc.net/problem/9205"
   ]
  },
  {
   "cell_type": "code",
   "execution_count": 2,
   "metadata": {},
   "outputs": [
    {
     "name": "stdout",
     "output_type": "stream",
     "text": [
      "happy? sad?\n"
     ]
    }
   ],
   "source": [
    "# t = int(input()) # 1 <= t <= 50\n",
    "t = 1 # FIXME to 2\n",
    "\n",
    "# 직사각형은 0,0 ~ 페스티벌X, 페스티벌Y로 만들면 되려나?\n",
    "\n",
    "for _ in range(t):\n",
    "    # 1. 입력받기\n",
    "#     n = int(input()) # 0 <= n <= 100\n",
    "#     homeX, homeY = map(int, input().split())\n",
    "#     store = []\n",
    "#     for _ in range(n):\n",
    "#         storeX, storeY = map(int, input().split())\n",
    "#         store.append((storeX, storeY))\n",
    "#     festivalX, festivalY = map(int, input().split())\n",
    "    \n",
    "    n = 2\n",
    "    homeX, homeY = 0, 0\n",
    "    store = [(1000, 0), (1000, 1000)]\n",
    "    festivalX, festivalY = 2000, 1000\n",
    "    \n",
    "    # 2. (필요하면) map 만들기\n",
    "#     map = [[0] * (festivalX + 1) for _ in range(festivalY + 1)]\n",
    "#     for _ in range():\n",
    "    \n",
    "        \n",
    "        \n",
    "    # 3. 검사\n",
    "    print('happy? sad?')\n",
    "    "
   ]
  },
  {
   "cell_type": "code",
   "execution_count": null,
   "metadata": {},
   "outputs": [],
   "source": []
  }
 ],
 "metadata": {
  "kernelspec": {
   "display_name": "Python 3",
   "language": "python",
   "name": "python3"
  },
  "language_info": {
   "codemirror_mode": {
    "name": "ipython",
    "version": 3
   },
   "file_extension": ".py",
   "mimetype": "text/x-python",
   "name": "python",
   "nbconvert_exporter": "python",
   "pygments_lexer": "ipython3",
   "version": "3.8.3"
  }
 },
 "nbformat": 4,
 "nbformat_minor": 4
}
