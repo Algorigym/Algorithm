{
 "cells": [
  {
   "cell_type": "markdown",
   "metadata": {},
   "source": [
    "https://www.acmicpc.net/problem/2667\n"
   ]
  },
  {
   "cell_type": "code",
   "execution_count": 15,
   "metadata": {},
   "outputs": [
    {
     "name": "stdout",
     "output_type": "stream",
     "text": [
      "7\n",
      "0110100\n",
      "0110101\n",
      "1110101\n",
      "0000111\n",
      "0100000\n",
      "0111110\n",
      "0111000\n",
      "3\n",
      "7\n",
      "8\n",
      "9\n"
     ]
    }
   ],
   "source": [
    "\n",
    "N = int(input())\n",
    "house = []\n",
    "for i in range(N):\n",
    "    house.append( list( map(int, str(input())) ) )\n",
    "\n",
    "count = 0\n",
    "answer = []\n",
    "visited = [[0] * N for _ in range(N)]\n",
    "\n",
    "def dfs(r, c):\n",
    "    visited[r][c] = 1\n",
    "    answer[count] += 1\n",
    "    # 왼\n",
    "    if c > 0 and house[r][c - 1] == 1 and visited[r][c - 1] == 0:\n",
    "        dfs(r, c - 1)\n",
    "    # 위\n",
    "    if r > 0 and house[r - 1][c] == 1 and visited[r - 1][c] == 0:\n",
    "        dfs(r - 1, c)\n",
    "    # 오\n",
    "    if c < N - 1 and house[r][c + 1] == 1 and visited[r][c + 1] == 0:\n",
    "        dfs(r, c + 1)\n",
    "    # 아\n",
    "    if r < N - 1 and house[r + 1][c] == 1 and visited[r + 1][c] == 0:\n",
    "        dfs(r + 1, c)\n",
    "    \n",
    "\n",
    "for i in range(N):\n",
    "    for j in range(N):\n",
    "        if (house[i][j] == 1 and visited[i][j] == 0):\n",
    "            answer.append(0)\n",
    "            dfs(i, j)\n",
    "            count += 1\n",
    "    \n",
    "print(count)\n",
    "answer.sort()\n",
    "for i in range(len(answer)):\n",
    "    print(answer[i])\n"
   ]
  },
  {
   "cell_type": "code",
   "execution_count": null,
   "metadata": {},
   "outputs": [],
   "source": [
    "7\n",
    "0110100\n",
    "0110101\n",
    "1110101\n",
    "0000111\n",
    "0100000\n",
    "0111110\n",
    "0111000"
   ]
  },
  {
   "cell_type": "code",
   "execution_count": null,
   "metadata": {},
   "outputs": [],
   "source": [
    "- 메모리 29452KB\n",
    "- 시간 76ms"
   ]
  },
  {
   "cell_type": "markdown",
   "metadata": {},
   "source": [
    "https://kjwan4435.tistory.com/68"
   ]
  }
 ],
 "metadata": {
  "kernelspec": {
   "display_name": "Python 3",
   "language": "python",
   "name": "python3"
  },
  "language_info": {
   "codemirror_mode": {
    "name": "ipython",
    "version": 3
   },
   "file_extension": ".py",
   "mimetype": "text/x-python",
   "name": "python",
   "nbconvert_exporter": "python",
   "pygments_lexer": "ipython3",
   "version": "3.8.3"
  }
 },
 "nbformat": 4,
 "nbformat_minor": 4
}
