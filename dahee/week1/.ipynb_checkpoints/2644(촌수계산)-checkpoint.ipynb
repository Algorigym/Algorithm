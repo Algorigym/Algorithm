{
 "cells": [
  {
   "cell_type": "markdown",
   "metadata": {},
   "source": [
    "https://www.acmicpc.net/problem/2644\n",
    "### BFS 문제"
   ]
  },
  {
   "cell_type": "code",
   "execution_count": 8,
   "metadata": {},
   "outputs": [
    {
     "name": "stdout",
     "output_type": "stream",
     "text": [
      "9\n",
      "7 3\n",
      "7\n",
      "1 2\n",
      "1 3\n",
      "2 7\n",
      "2 8\n",
      "2 9\n",
      "4 5\n",
      "4 6\n",
      "[0, 2, 1, 3, 0, 0, 0, 0, 2, 2]\n",
      "3\n"
     ]
    }
   ],
   "source": [
    "from collections import deque\n",
    "\n",
    "n = int(input())\n",
    "a, b = map(int, input().split())\n",
    "m = int(input())\n",
    "adj = [[] for _ in range(n + 1)]\n",
    "\n",
    "for _ in range(m):\n",
    "    x, y = map(int, input().split())\n",
    "    adj[x].append(y)\n",
    "    adj[y].append(x)\n",
    "\n",
    "result = [0] * (n + 1)\n",
    "def bfs(v):\n",
    "    q = deque([v])\n",
    "    visited = [0] * (n + 1)\n",
    "    \n",
    "    while q:\n",
    "        v = q.popleft()\n",
    "        visited[v] = 1\n",
    "        for i in adj[v]:\n",
    "            if not visited[i]:\n",
    "                q.append(i)\n",
    "                result[i] = result[v] + 1\n",
    "    \n",
    "bfs(a)\n",
    "r = result[b]\n",
    "print(result)\n",
    "print(r if r > 0 else -1)\n",
    "\n",
    "    "
   ]
  },
  {
   "cell_type": "code",
   "execution_count": null,
   "metadata": {},
   "outputs": [],
   "source": [
    "9\n",
    "7 3\n",
    "7\n",
    "1 2\n",
    "1 3\n",
    "2 7\n",
    "2 8\n",
    "2 9\n",
    "4 5\n",
    "4 6"
   ]
  },
  {
   "cell_type": "markdown",
   "metadata": {},
   "source": [
    "### 결과\n",
    "- 메모리 31884KB\n",
    "- 시간 100ms\n",
    "\n",
    "### 알게된 것\n",
    "- ```print(r if r > 0 else -1)``` (삼항연산자)"
   ]
  },
  {
   "cell_type": "code",
   "execution_count": null,
   "metadata": {},
   "outputs": [],
   "source": []
  }
 ],
 "metadata": {
  "kernelspec": {
   "display_name": "Python 3",
   "language": "python",
   "name": "python3"
  },
  "language_info": {
   "codemirror_mode": {
    "name": "ipython",
    "version": 3
   },
   "file_extension": ".py",
   "mimetype": "text/x-python",
   "name": "python",
   "nbconvert_exporter": "python",
   "pygments_lexer": "ipython3",
   "version": "3.8.3"
  }
 },
 "nbformat": 4,
 "nbformat_minor": 4
}
