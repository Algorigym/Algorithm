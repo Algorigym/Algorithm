{
 "cells": [
  {
   "cell_type": "markdown",
   "metadata": {},
   "source": [
    "https://www.acmicpc.net/problem/2606"
   ]
  },
  {
   "cell_type": "markdown",
   "metadata": {},
   "source": [
    "### BFS"
   ]
  },
  {
   "cell_type": "code",
   "execution_count": 6,
   "metadata": {},
   "outputs": [
    {
     "name": "stdout",
     "output_type": "stream",
     "text": [
      "7\n",
      "6\n",
      "1 2\n",
      "2 3\n",
      "1 5\n",
      "5 2\n",
      "5 6\n",
      "4 7\n",
      "5\n"
     ]
    }
   ],
   "source": [
    "N = int(input())\n",
    "M = int(input())\n",
    "V = 1\n",
    "\n",
    "matrix = [[0] * (N + 1) for _ in range(N + 1)]\n",
    "visited = [0] * (N + 1)\n",
    "\n",
    "for _ in range(M):\n",
    "    a, b = map(int, input().split())\n",
    "    matrix[a][b] = matrix[b][a] = 1\n",
    "                \n",
    "def bfs(V):\n",
    "    queue = [V]  # 들려야 할 정점 저장\n",
    "    visited[V] = 1  # 방문한 점 1로 표시\n",
    "    count = 0\n",
    "\n",
    "    while queue:  # []이면 while문이 돌지 않는다.\n",
    "        V = queue.pop(0)  # 첫 번째 원소 pop\n",
    "        for i in range(1, N + 1):\n",
    "            if (visited[i] == 0 and matrix[V][i] == 1):\n",
    "                queue.append(i)\n",
    "                visited[i] = 1\n",
    "                count += 1\n",
    "    \n",
    "    return count\n",
    "                         \n",
    "count = bfs(V)\n",
    "print(count)\n",
    "\n",
    "\n",
    "\n",
    "    "
   ]
  },
  {
   "cell_type": "markdown",
   "metadata": {},
   "source": [
    "### DFS"
   ]
  },
  {
   "cell_type": "code",
   "execution_count": 28,
   "metadata": {},
   "outputs": [
    {
     "name": "stdout",
     "output_type": "stream",
     "text": [
      "7\n",
      "6\n",
      "1 2\n",
      "2 3\n",
      "1 5\n",
      "5 2\n",
      "5 6\n",
      "4 7\n",
      "4\n"
     ]
    }
   ],
   "source": [
    "N = int(input())\n",
    "M = int(input())\n",
    "V = 1\n",
    "\n",
    "matrix = [[0] * (N + 1) for _ in range(N + 1)]\n",
    "visited = [0] * (N + 1)\n",
    "\n",
    "for _ in range(M):\n",
    "    a, b = map(int, input().split())\n",
    "    matrix[a][b] = matrix[b][a] = 1\n",
    "                \n",
    "\n",
    "count = 0\n",
    "def dfs(V):\n",
    "    global count\n",
    "    visited[V] = 1\n",
    "    for i in range(1, N + 1):\n",
    "        if (visited[i] == 0 and matrix[V][i] == 1):\n",
    "            dfs(i)\n",
    "            count += 1\n",
    "            \n",
    "dfs(V)\n",
    "print(count)\n",
    "\n"
   ]
  },
  {
   "cell_type": "markdown",
   "metadata": {},
   "source": [
    "- BFS, DFS\n",
    "- 메모리: 29088KB\n",
    "- 시간: 80ms\n",
    "\n",
    "- 일반적으로 모든 경우를 다 탐색해야 하는 경우는 DFS가 더 선호되는 것으로 알고 있습니다.\n",
    "\n",
    "- 참고 블로그\n",
    "https://chancoding.tistory.com/60"
   ]
  },
  {
   "cell_type": "code",
   "execution_count": null,
   "metadata": {},
   "outputs": [],
   "source": []
  },
  {
   "cell_type": "code",
   "execution_count": null,
   "metadata": {},
   "outputs": [],
   "source": []
  }
 ],
 "metadata": {
  "kernelspec": {
   "display_name": "Python 3",
   "language": "python",
   "name": "python3"
  },
  "language_info": {
   "codemirror_mode": {
    "name": "ipython",
    "version": 3
   },
   "file_extension": ".py",
   "mimetype": "text/x-python",
   "name": "python",
   "nbconvert_exporter": "python",
   "pygments_lexer": "ipython3",
   "version": "3.8.3"
  }
 },
 "nbformat": 4,
 "nbformat_minor": 4
}
