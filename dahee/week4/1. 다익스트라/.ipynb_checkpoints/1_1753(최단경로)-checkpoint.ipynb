{
 "cells": [
  {
   "cell_type": "markdown",
   "metadata": {},
   "source": [
    "- https://www.acmicpc.net/problem/1753\n",
    "- https://coding-dahee.tistory.com/245"
   ]
  },
  {
   "cell_type": "markdown",
   "metadata": {},
   "source": [
    "### 결과\n",
    "\n",
    "-   메모리: 167436 KB\n",
    "-   시간: 868 ms\n",
    "\n",
    "### 알게된 것\n",
    "\n",
    "-   다익스트라: 한 정점에서 다른 모든 정점으로의 최단 거리\n",
    "    \n",
    "-   플로이드-와샬: 모든 정점에서 다른 모든 정점으로의 최단 거리\n",
    "    \n",
    "-   heap ([https://hocheon.tistory.com/70](https://hocheon.tistory.com/70)) (https://dingrr.com/blog/post/%EC%9E%90%EB%A3%8C%EA%B5%AC%EC%A1%B0-heap%ED%9E%99)\n",
    "    \n",
    "    1.  최댓값과 최솟값을 빠르게 찾기 위해 고안된 완전 이진트리 형태의 자료구조. O(log n)\n",
    "    2.  삽입: 트리 마지막 원소에 추가\n",
    "    3.  삭제: 루트 노드 제거, 마지막 노드를 루트로 이동\n",
    "    4. 이진 탐색트리와의 차이점: 이진 탐색트리는 탐색을 위함, 힙은 최소/최대값 찾기 위함.\n",
    "    5. 왜 사용?: 데이터를 큐나, 배열에 데이터를 넣고 최대값이나 최소값을 찾으려면 최악의 경우 일일히 하나씩 데이터를 검사해야 하기때문에 O(n)의 시간복잡도를 가집니다. 하지만, 힙을 사용하면 O(log n)으로 시간복잡도가 현격하게 줄어듭니다.\n",
    "    6. 코딩 테스트 문제 중 최솟값 , 혹은 최댓값을 계속해서 호출해야 하는 상황인 경우 Heap 구조를 이용하여 구현하면 시간측면에서 굉장히 효율적인 구현이 가능하다.\n",
    "    7. 핵심: 최대/최소값 구하기 위한 자료구조, O(log n), 완전이진트리\n",
    "    \n",
    "-   heapq 모듈은 리스트를 최소 힙처럼 다룰 수 있다.\n",
    "\n",
    "- 이진트리: 노드가 왼쪽자식과 오른쪽 자식을 갖는 트리를 이진트리(binary tree)라고 한다. 이때 각 노드의 자식은 2명 이하만 유지해야한다.\n",
    "- 완전 이진트리: 루트부터 노드가 채워져있으면서 같은 레벨에서는 왼쪽에서 오른쪽으로 노드가 채워져있는 이진트리를 완전이진트리(complete binary tree)라고 한다.\n",
    "    \n",
    "-   참고 블로그: [https://m.blog.naver.com/PostView.nhn?blogId=ndb796&logNo=221234427842&proxyReferer=https:%2F%2Fwww.google.com%2F](https://m.blog.naver.com/PostView.nhn?blogId=ndb796&logNo=221234427842&proxyReferer=https:%2F%2Fwww.google.com%2F)\n",
    "    \n",
    "-   sys.stdin.readline이 안먹혀서 주피터에서는 그냥 input 사용해야 한다.\n",
    "    \n",
    "\n",
    "### 문제 해결 방법\n",
    "\n",
    "-   다익스트라는 처음 풀어서 블로그 보고! [https://developmentdiary.tistory.com/391](https://developmentdiary.tistory.com/391) 🔥👍\n",
    "-   위 블로그에서 heapq를 제대로 이해하지 못해서 가독성 편의를 위해 `append([v, w])` 로 바꿨더니 오류가 남. `# 거리를 앞에두어 우선순위 큐에 넣을때 거리가 비교되도록한다.` 주목! => heapq 다시 한 번 개념 복습하기\n",
    "\n"
   ]
  },
  {
   "cell_type": "code",
   "execution_count": 19,
   "metadata": {},
   "outputs": [
    {
     "ename": "ValueError",
     "evalue": "not enough values to unpack (expected 2, got 0)",
     "output_type": "error",
     "traceback": [
      "\u001b[0;31m---------------------------------------------------------------------------\u001b[0m",
      "\u001b[0;31mValueError\u001b[0m                                Traceback (most recent call last)",
      "\u001b[0;32m<ipython-input-19-38f5d373b286>\u001b[0m in \u001b[0;36m<module>\u001b[0;34m\u001b[0m\n\u001b[1;32m      6\u001b[0m \u001b[0;34m\u001b[0m\u001b[0m\n\u001b[1;32m      7\u001b[0m \u001b[0mINF\u001b[0m \u001b[0;34m=\u001b[0m \u001b[0msys\u001b[0m\u001b[0;34m.\u001b[0m\u001b[0mmaxsize\u001b[0m\u001b[0;34m\u001b[0m\u001b[0;34m\u001b[0m\u001b[0m\n\u001b[0;32m----> 8\u001b[0;31m \u001b[0mV\u001b[0m\u001b[0;34m,\u001b[0m \u001b[0mE\u001b[0m \u001b[0;34m=\u001b[0m \u001b[0mmap\u001b[0m\u001b[0;34m(\u001b[0m\u001b[0mint\u001b[0m\u001b[0;34m,\u001b[0m \u001b[0mip\u001b[0m\u001b[0;34m(\u001b[0m\u001b[0;34m)\u001b[0m\u001b[0;34m.\u001b[0m\u001b[0msplit\u001b[0m\u001b[0;34m(\u001b[0m\u001b[0;34m)\u001b[0m\u001b[0;34m)\u001b[0m\u001b[0;34m\u001b[0m\u001b[0;34m\u001b[0m\u001b[0m\n\u001b[0m\u001b[1;32m      9\u001b[0m \u001b[0;34m\u001b[0m\u001b[0m\n\u001b[1;32m     10\u001b[0m \u001b[0mG\u001b[0m \u001b[0;34m=\u001b[0m \u001b[0;34m[\u001b[0m\u001b[0;34m[\u001b[0m\u001b[0;34m]\u001b[0m \u001b[0;32mfor\u001b[0m \u001b[0m_\u001b[0m \u001b[0;32min\u001b[0m \u001b[0mrange\u001b[0m\u001b[0;34m(\u001b[0m\u001b[0mV\u001b[0m \u001b[0;34m+\u001b[0m \u001b[0;36m1\u001b[0m\u001b[0;34m)\u001b[0m\u001b[0;34m]\u001b[0m\u001b[0;34m\u001b[0m\u001b[0;34m\u001b[0m\u001b[0m\n",
      "\u001b[0;31mValueError\u001b[0m: not enough values to unpack (expected 2, got 0)"
     ]
    }
   ],
   "source": [
    "\n",
    "import sys\n",
    "import heapq\n",
    "\n",
    "# ip = input # 주피터에서는 readline 안먹혀서 input 써야 함.\n",
    "ip = sys.stdin.readline # 제출할 때만 주석 해제. 시간이 단축되므로. (1200ms to 868ms)\n",
    "\n",
    "INF = sys.maxsize\n",
    "V, E = map(int, ip().split())\n",
    "\n",
    "G = [[] for _ in range(V + 1)]\n",
    "K = int(ip())\n",
    "\n",
    "for _ in range(E):\n",
    "    u, v, w = map(int, ip().split())\n",
    "    G[u].append([w, v])\n",
    "\n",
    "result = [INF for _ in range(V + 1)]\n",
    "result[K] = 0\n",
    "\n",
    "q = []\n",
    "heapq.heappush(q, [0, K]) # 거리를 앞에두어 우선순위 큐에 넣을때 거리가 비교되도록한다.\n",
    "\n",
    "while q:\n",
    "    dist, to = heapq.heappop(q)\n",
    "\n",
    "    if result[to] < dist: # 해당 경로가 이전경로보다 길다면 연결된 노드에 대해 탐색할필요가없다.\n",
    "        continue\n",
    "    for d, t in G[to]: # 연결된 노드 탐색\n",
    "        d += dist # 이전거리와 현재 연결된 노드의 거리를 더해서\n",
    "        if d < result[t]: # 거리비교 # 거리가 이전보다 짧으면\n",
    "            result[t] = d # 거리를 갱신시키고\n",
    "            heapq.heappush(q, [d, t]) # 우선순위 큐에 넣어준다.\n",
    "\n",
    "for i in range(1, V + 1):\n",
    "    print(result[i] if result[i] != INF else \"INF\")\n",
    "\n"
   ]
  },
  {
   "cell_type": "code",
   "execution_count": null,
   "metadata": {},
   "outputs": [],
   "source": []
  }
 ],
 "metadata": {
  "kernelspec": {
   "display_name": "Python 3",
   "language": "python",
   "name": "python3"
  },
  "language_info": {
   "codemirror_mode": {
    "name": "ipython",
    "version": 3
   },
   "file_extension": ".py",
   "mimetype": "text/x-python",
   "name": "python",
   "nbconvert_exporter": "python",
   "pygments_lexer": "ipython3",
   "version": "3.8.3"
  }
 },
 "nbformat": 4,
 "nbformat_minor": 4
}
