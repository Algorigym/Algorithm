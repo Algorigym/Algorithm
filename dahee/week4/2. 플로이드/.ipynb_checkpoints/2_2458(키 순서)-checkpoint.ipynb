{
 "cells": [
  {
   "cell_type": "markdown",
   "metadata": {},
   "source": [
    "https://www.acmicpc.net/problem/2458\n",
    "\n",
    "### 결과\n",
    "- 메모리: 126508 KB\n",
    "- 시간: 976 ms\n",
    "\n",
    "### 해결 방식\n",
    "- 도저히 모르겠어서 블로그를 찾아봤다.\n",
    "  https://chldkato.tistory.com/42\n",
    "- 아직 플로이드의 원리를 제대로 파악하지 못해서 그런 것 같다. 제대로 이해하고 풀자.\n",
    "- key: 자신의 정점으로 오는 경로가 모두 파악된 것만이 자신의 키가 몇 번째인지 알 수 있다. 라는 것이다.\n",
    "\n",
    "### 알게된 것\n",
    "- ```print([1, 2, 3, 3].count(3)) # count 함수```"
   ]
  },
  {
   "cell_type": "code",
   "execution_count": 15,
   "metadata": {},
   "outputs": [
    {
     "name": "stdout",
     "output_type": "stream",
     "text": [
      "6 6\n",
      "1 5\n",
      "3 4\n",
      "5 4\n",
      "4 2\n",
      "4 6\n",
      "5 2\n",
      "1\n"
     ]
    }
   ],
   "source": [
    "from sys import maxsize\n",
    "\n",
    "n, m = map(int, input().split())\n",
    "arr = [[maxsize] * (n + 1) for _ in range(n + 1)]\n",
    "for i in range(m):\n",
    "    a, b = map(int, input().split())\n",
    "    arr[a][b] = 1\n",
    "    \n",
    "def printArr(a):\n",
    "    for i in a:\n",
    "        for j in i:\n",
    "            print(j, end=' ')\n",
    "        print()\n",
    "        \n",
    "def floyd():\n",
    "    for k in range(1, n + 1):\n",
    "        for i in range(1, n + 1):\n",
    "            for j in range(1, n + 1):\n",
    "                if arr[i][k] + arr[k][j] == 2:\n",
    "                    arr[i][j] = 1\n",
    "floyd()\n",
    "    \n",
    "cnt = [0] * (n + 1)\n",
    "for i in range(1, n + 1):\n",
    "    for j in range(1, n + 1):\n",
    "        if arr[i][j] == 1:\n",
    "            cnt[i] += 1\n",
    "            cnt[j] += 1\n",
    "print(cnt.count(n - 1))\n"
   ]
  },
  {
   "cell_type": "code",
   "execution_count": 12,
   "metadata": {},
   "outputs": [
    {
     "name": "stdout",
     "output_type": "stream",
     "text": [
      "2\n"
     ]
    }
   ],
   "source": [
    "print([1, 2, 3, 3].count(3))"
   ]
  },
  {
   "cell_type": "markdown",
   "metadata": {},
   "source": [
    "## "
   ]
  }
 ],
 "metadata": {
  "kernelspec": {
   "display_name": "Python 3",
   "language": "python",
   "name": "python3"
  },
  "language_info": {
   "codemirror_mode": {
    "name": "ipython",
    "version": 3
   },
   "file_extension": ".py",
   "mimetype": "text/x-python",
   "name": "python",
   "nbconvert_exporter": "python",
   "pygments_lexer": "ipython3",
   "version": "3.8.3"
  }
 },
 "nbformat": 4,
 "nbformat_minor": 4
}
