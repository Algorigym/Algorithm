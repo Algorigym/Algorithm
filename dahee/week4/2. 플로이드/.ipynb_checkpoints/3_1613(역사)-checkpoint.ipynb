{
 "cells": [
  {
   "cell_type": "markdown",
   "metadata": {},
   "source": [
    "### 문제 링크\n",
    "https://www.acmicpc.net/problem/1613\n",
    "\n",
    "### 블로그\n",
    "https://coding-dahee.tistory.com/243"
   ]
  },
  {
   "cell_type": "markdown",
   "metadata": {},
   "source": [
    "### 결과 (PyPy3)\n",
    "- 메모리: 127824 KB (개선: 126088ms)\n",
    "- 시간: 5440 ms (개선: 640ms)\n",
    "\n",
    "### 주의할 것\n",
    "- 항상 index 때문에 틀렸습니다 를 한 번 마주친다. 조심하자!!!!\n",
    "\n",
    "### 개선\n",
    "- 시간이 너무 오래 걸려서 몇가지를 개선해보았다.\n",
    "- 참고: https://www.acmicpc.net/source/18012011\n",
    "    1. maxsize 대신 0 대입. maxsize는 정말 필요할 때만 쓰자.\n",
    "        - 시간: 5440ms to 3232ms 🎉\n",
    "    2. ```import readline.``` 그냥 ```input()``` 대신 ```sys.stdin.readline```\n",
    "        ```\n",
    "        import sys\n",
    "        ip = sys.stdin.readline\n",
    "        ```\n",
    "        - 시간: 3232ms to 640ms 😇 (이걸 이제까지 몰랐다니)"
   ]
  },
  {
   "cell_type": "code",
   "execution_count": 2,
   "metadata": {},
   "outputs": [
    {
     "name": "stdout",
     "output_type": "stream",
     "text": [
      "5 5\n",
      "1 2\n",
      "1 3\n",
      "2 3\n",
      "3 4\n",
      "2 4\n",
      "3\n",
      "1 5\n",
      "0\n",
      "2 4\n",
      "-1\n",
      "3 1\n",
      "1\n"
     ]
    }
   ],
   "source": [
    "import sys\n",
    "ip = sys.stdin.readline\n",
    "\n",
    "n, k = map(int, ip().split()) # 사건의 개수, 알고 있는 사건의 전후 관계의 개수\n",
    "arr = [[0] * (n + 1) for _ in range(n + 1)]\n",
    "\n",
    "for _ in range(k):\n",
    "    a, b = map(int, ip().split())\n",
    "    arr[a][b] = 1\n",
    "    \n",
    "for k in range(1, n + 1):\n",
    "    for i in range(1, n + 1):\n",
    "        for j in range(1, n + 1):\n",
    "            if arr[i][k] + arr[k][j] == 2:\n",
    "                arr[i][j] = 1\n",
    "    \n",
    "\n",
    "s = int(input())\n",
    "for _ in range(s):\n",
    "    x, y = map(int, ip().split())\n",
    "    if arr[x][y] == 1:\n",
    "        print(-1)\n",
    "    elif arr[y][x] == 1:\n",
    "        print(1)\n",
    "    else:\n",
    "        print(0)\n",
    "        \n",
    "        \n",
    "    "
   ]
  },
  {
   "cell_type": "code",
   "execution_count": null,
   "metadata": {},
   "outputs": [],
   "source": [
    "import sys\n",
    "ip = sys.stdin.readline\n",
    "n,m = map(int,ip().split())\n",
    "inf = 1e9\n",
    "arr = [[0 for i in range(n)] for i in range(n)]\n",
    "for i in range(n):\n",
    "\tarr[i][i] = 1\n",
    "for i in range(m):\n",
    "\ta,b = map(int,ip().split())\n",
    "\tarr[a-1][b-1] = 1\n",
    "for i in range(n):\n",
    "\tfor j in range(n):\n",
    "\t\tfor k in range(n):\n",
    "\t\t\tif arr[j][i] and arr[i][k]:\n",
    "\t\t\t\tarr[j][k] = 1\n",
    "\n",
    "for i in range(int(ip())):\n",
    "\ta,b = map(int,ip().split())\n",
    "\tif arr[a-1][b-1] == 1:\n",
    "\t\tprint(-1)\n",
    "\telif arr[b-1][a-1] == 1:\n",
    "\t\tprint(1)\n",
    "\telse:\n",
    "\t\tprint(0)\n"
   ]
  },
  {
   "cell_type": "markdown",
   "metadata": {},
   "source": [
    "#### "
   ]
  }
 ],
 "metadata": {
  "kernelspec": {
   "display_name": "Python 3",
   "language": "python",
   "name": "python3"
  },
  "language_info": {
   "codemirror_mode": {
    "name": "ipython",
    "version": 3
   },
   "file_extension": ".py",
   "mimetype": "text/x-python",
   "name": "python",
   "nbconvert_exporter": "python",
   "pygments_lexer": "ipython3",
   "version": "3.8.3"
  }
 },
 "nbformat": 4,
 "nbformat_minor": 4
}
