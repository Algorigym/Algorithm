{
 "cells": [
  {
   "cell_type": "markdown",
   "metadata": {},
   "source": [
    "https://www.acmicpc.net/problem/2468\n"
   ]
  },
  {
   "cell_type": "markdown",
   "metadata": {},
   "source": [
    "### 문제점\n",
    "- 문제를 처음에 이해하지 못했음. 단순히 단지번호랑 같은 문제인줄 알았는데 아니었음. -> 문제를 정확히 파악하자.\n",
    "- 1부터 max까지 비교해야 하는데 min을 구해버렸음\n",
    "- 약 1시간동안 풀었다. (푸는 방법 제외, 딴짓 추가..)\n",
    "\n",
    "### 알게된 것\n",
    "1. 무한대 recursion 방지 코드\n",
    "```\n",
    "import sys\n",
    "sys.setrecursionlimit(100000)\n",
    "```\n",
    "(참고: https://dojinkimm.github.io/problem_solving/2019/11/15/boj-2468-safezone.html)\n",
    "이 문제를 파이썬에서 풀기 위해서 무조건 sys.setrecursionlimit()을 추가해줘야 한다. 이 코드를 삽입하지 않으면 런타임 에러가 발생한다. 공식 도큐먼트에 의하면 해당 코드는 파이썬 인터프리터 stack에 최대 깊이를 지정하는 것이다. 무한대의 recursion이 발생해서 overflow가 발생하는 것을 방지하기 위함이다. 이 문제에서는 그 만큼 깊이 있게 recursion으로 stack이 쌓이기 때문에 어느 정도가 진행되면 제한을 둬야 하는 것이다.\n",
    "\n",
    "\n",
    "2. max, min 함수 & map 이용"
   ]
  },
  {
   "cell_type": "markdown",
   "metadata": {},
   "source": [
    "### 결과\n",
    "- 메모리: 38088 KB\n",
    "- 시간: 1468 ms\n"
   ]
  },
  {
   "cell_type": "code",
   "execution_count": null,
   "metadata": {},
   "outputs": [],
   "source": [
    "\n",
    "## 제출 코드\n",
    "import sys\n",
    "sys.setrecursionlimit(100000)\n",
    "\n",
    "N = int(input())\n",
    "matrix = []\n",
    "visited = [[0] * N for _ in range(N)]\n",
    "\n",
    "for _ in range(N):\n",
    "    matrix.append( list( map(int, input().split()) ) )\n",
    "\n",
    "directions = [(0, -1), (0, 1), (-1, 0), (1, 0)] # 상하좌우\n",
    "\n",
    "# 최소, 최대 높이 구하기\n",
    "# _min, _max = min( map(min, matrix) ), max( map(max, matrix) )\n",
    "_max = max( map(max, matrix) )\n",
    "\n",
    "def dfs(h, a, b):\n",
    "    visited[a][b] = 1\n",
    "    for x, y in directions:\n",
    "        nx, ny = a + x, b + y\n",
    "        if not 0 <= nx < N or not 0 <= ny < N:\n",
    "            continue\n",
    "        if h < matrix[nx][ny] and visited[nx][ny] == 0:\n",
    "            dfs(h, nx, ny)                                                                             \n",
    "\n",
    "result = []\n",
    "for h in range(_max + 1):\n",
    "    count = 0\n",
    "    visited = [[0] * N for _ in range(N)]\n",
    "    for i in range(N):\n",
    "        for j in range(N):\n",
    "            if h < matrix[i][j] and visited[i][j] == 0:\n",
    "                count += 1\n",
    "                dfs(h, i, j)\n",
    "    result.append(count)\n",
    "        \n",
    "print(max(result))"
   ]
  },
  {
   "cell_type": "code",
   "execution_count": 15,
   "metadata": {},
   "outputs": [
    {
     "name": "stdout",
     "output_type": "stream",
     "text": [
      "_min:  2 _max:  9\n",
      "5\n"
     ]
    }
   ],
   "source": [
    "\n",
    "# for _ in range(N):\n",
    "#     matrix.append( list( map(int, input().split()) ) )\n",
    "\n",
    "\n",
    "# matrix = [\n",
    "#     [6, 8],\n",
    "#     [8, 6],\n",
    "# ]\n",
    "matrix = [\n",
    "    [6, 8, 2, 6, 2],\n",
    "    [3, 2, 3, 4, 6],\n",
    "    [6, 7, 3, 3, 2],\n",
    "    [7, 2, 5, 3, 6],\n",
    "    [8, 9, 5, 2, 7]\n",
    "]\n",
    "N = 5\n",
    "visited = [[0] * N for _ in range(N)]\n",
    "\n",
    "# for _ in range(N):\n",
    "#     matrix.append( list( map(int, input().split()) ) )\n",
    "\n",
    "directions = [(0, -1), (0, 1), (-1, 0), (1, 0)] # 상하좌우\n",
    "\n",
    "# 최소, 최대 높이 구하기\n",
    "_min, _max = min( map(min, matrix) ), max( map(max, matrix) )\n",
    "print('_min: ', _min, '_max: ', _max)\n",
    "\n",
    "def dfs(h, a, b):\n",
    "    visited[a][b] = 1\n",
    "    for x, y in directions:\n",
    "        nx, ny = a + x, b + y\n",
    "        if not 0 <= nx < N or not 0 <= ny < N:\n",
    "            continue\n",
    "        if h < matrix[nx][ny] and visited[nx][ny] == 0:\n",
    "            dfs(h, nx, ny)                                                                             \n",
    "\n",
    "result = []\n",
    "for h in range(_min, _max + 1):\n",
    "    count = 0\n",
    "    visited = [[0] * N for _ in range(N)]\n",
    "    for i in range(N):\n",
    "        for j in range(N):\n",
    "            if h < matrix[i][j] and visited[i][j] == 0:\n",
    "                count += 1\n",
    "                dfs(h, i, j)\n",
    "    result.append(count)\n",
    "        \n",
    "print(max(result))"
   ]
  },
  {
   "cell_type": "code",
   "execution_count": 14,
   "metadata": {},
   "outputs": [
    {
     "ename": "SyntaxError",
     "evalue": "invalid syntax (<ipython-input-14-f73e3754bef8>, line 2)",
     "output_type": "error",
     "traceback": [
      "\u001b[0;36m  File \u001b[0;32m\"<ipython-input-14-f73e3754bef8>\"\u001b[0;36m, line \u001b[0;32m2\u001b[0m\n\u001b[0;31m    6 8 2 6 2\u001b[0m\n\u001b[0m      ^\u001b[0m\n\u001b[0;31mSyntaxError\u001b[0m\u001b[0;31m:\u001b[0m invalid syntax\n"
     ]
    }
   ],
   "source": [
    "5\n",
    "6 8 2 6 2\n",
    "3 2 3 4 6\n",
    "6 7 3 3 2\n",
    "7 2 5 3 6\n",
    "8 9 5 2 7"
   ]
  },
  {
   "cell_type": "code",
   "execution_count": 63,
   "metadata": {},
   "outputs": [
    {
     "name": "stdout",
     "output_type": "stream",
     "text": [
      "False\n"
     ]
    }
   ],
   "source": [
    "n = 3\n",
    "print(not 2 < n < 6 and not 7 < n < 8)"
   ]
  },
  {
   "cell_type": "code",
   "execution_count": 8,
   "metadata": {},
   "outputs": [
    {
     "name": "stdout",
     "output_type": "stream",
     "text": [
      "<class 'int'>\n"
     ]
    }
   ],
   "source": [
    "r = [1, 2, 3]\n",
    "m = max(r)\n",
    "print(type(m))\n",
    "\n"
   ]
  },
  {
   "cell_type": "code",
   "execution_count": null,
   "metadata": {},
   "outputs": [],
   "source": []
  }
 ],
 "metadata": {
  "kernelspec": {
   "display_name": "Python 3",
   "language": "python",
   "name": "python3"
  },
  "language_info": {
   "codemirror_mode": {
    "name": "ipython",
    "version": 3
   },
   "file_extension": ".py",
   "mimetype": "text/x-python",
   "name": "python",
   "nbconvert_exporter": "python",
   "pygments_lexer": "ipython3",
   "version": "3.8.3"
  }
 },
 "nbformat": 4,
 "nbformat_minor": 4
}
