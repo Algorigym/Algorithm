{
 "cells": [
  {
   "cell_type": "markdown",
   "metadata": {},
   "source": [
    "https://www.acmicpc.net/problem/5014\n"
   ]
  },
  {
   "cell_type": "markdown",
   "metadata": {},
   "source": [
    "### 생각\n",
    "- 숨바꼭질이랑 똑같아서 금방 풀었다.\n",
    "- 그런데 테스트케이스는 다 통과하는데 틀렸습니다 가 뜬다.\n",
    "- # if 0 <= v + U <= max 로 해서 좀 헤맸음 (0층은 없다!!!!!)\n",
    "\n",
    "### 결과\n",
    "- 메모리 79032 KB\n",
    "- 시간 864 ms"
   ]
  },
  {
   "cell_type": "code",
   "execution_count": null,
   "metadata": {},
   "outputs": [],
   "source": [
    "from collections import deque\n",
    "\n",
    "F, S, G, U, D = map(int, input().split())\n",
    "max = 1000000\n",
    "# S층에서 G층으로 (최대 F층)\n",
    "result = [0] * (max + 1)\n",
    "\n",
    "def bfs(s):\n",
    "    q = deque([S])\n",
    "    visited = [0] * (max + 1)\n",
    "    visited[S] = 1\n",
    "    \n",
    "    while q:\n",
    "        v = q.popleft()\n",
    "        \n",
    "        if (v == G):\n",
    "            break\n",
    "        \n",
    "        # if 0 <= v + U <= max 로 해서 좀 헤맸음\n",
    "        if 1 <= v + U <= F and visited[v + U] == 0:\n",
    "            q.append(v + U)\n",
    "            visited[v + U] = 1\n",
    "            result[v + U] = result[v] + 1\n",
    "        if 1 <= v - D <= F and visited[v - D] == 0:\n",
    "            q.append(v - D)\n",
    "            visited[v - D] = 1\n",
    "            result[v - D] = result[v] + 1\n",
    "            \n",
    "bfs(S)\n",
    "print('use the stairs' if result[G] == 0 and not S == G else result[G])\n"
   ]
  },
  {
   "cell_type": "code",
   "execution_count": null,
   "metadata": {},
   "outputs": [],
   "source": [
    "10 1 10 2 1\n",
    "100 2 1 1 0"
   ]
  }
 ],
 "metadata": {
  "kernelspec": {
   "display_name": "Python 3",
   "language": "python",
   "name": "python3"
  },
  "language_info": {
   "codemirror_mode": {
    "name": "ipython",
    "version": 3
   },
   "file_extension": ".py",
   "mimetype": "text/x-python",
   "name": "python",
   "nbconvert_exporter": "python",
   "pygments_lexer": "ipython3",
   "version": "3.8.3"
  }
 },
 "nbformat": 4,
 "nbformat_minor": 4
}
