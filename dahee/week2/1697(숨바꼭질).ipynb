{
 "cells": [
  {
   "cell_type": "markdown",
   "metadata": {},
   "source": [
    "https://www.acmicpc.net/problem/1697"
   ]
  },
  {
   "cell_type": "markdown",
   "metadata": {},
   "source": [
    "### 정리\n",
    "- 10분 생각하고 해답 찾아봤음.\n",
    "- 이유: 최단 거리 문제임은 알았음. 그런데 모든 경우를 다 생각해야한다는 것은 생각 못했음. 5 - 4, 6, 10 모두 고려해야 하는데 그 생각도 못함. 그래서 막막했던거임.\n",
    "- 개선: 모든 경우의 수를 생각하자. 하나하나 직접 해본다는 느낌으로! 해답은 어렵지 않았다.\n",
    "- https://wook-2124.tistory.com/273\n"
   ]
  },
  {
   "cell_type": "markdown",
   "metadata": {},
   "source": [
    "### 결과\n",
    "- 메모리 36268 KB\n",
    "- 시간 188ms\n"
   ]
  },
  {
   "cell_type": "code",
   "execution_count": 17,
   "metadata": {},
   "outputs": [
    {
     "name": "stdout",
     "output_type": "stream",
     "text": [
      "5 17\n",
      "4\n"
     ]
    }
   ],
   "source": [
    "from collections import deque\n",
    "\n",
    "N, K = map(int, input().split())\n",
    "M = 100000 # max\n",
    "result = [0] * (M + 1)\n",
    "\n",
    "def bfs(n):\n",
    "    q = deque([n])\n",
    "    visited = [0] * (M + 1)\n",
    "    visited[n] = 1\n",
    "    \n",
    "    while q:\n",
    "        v = q.popleft()\n",
    "        \n",
    "        if v == K:\n",
    "            break\n",
    "        \n",
    "        if 0 <= v - 1 <= M and visited[v - 1] == 0:\n",
    "            visited[v - 1] = 1\n",
    "            q.append(v - 1)\n",
    "            result[v - 1] += result[v] + 1\n",
    "            \n",
    "        if 0 <= v + 1 <= M and visited[v + 1] == 0:\n",
    "            visited[v + 1] = 1\n",
    "            q.append(v + 1)\n",
    "            result[v + 1] += result[v] + 1\n",
    "            \n",
    "        if 0 <= v * 2 <= M <= M and visited[v * 2] == 0:\n",
    "            visited[v * 2] = 1\n",
    "            q.append(v * 2)\n",
    "            result[v * 2] += result[v] + 1\n",
    "            \n",
    "        \n",
    "        \n",
    "bfs(N)\n",
    "print(result[K])\n"
   ]
  },
  {
   "cell_type": "code",
   "execution_count": null,
   "metadata": {},
   "outputs": [],
   "source": []
  }
 ],
 "metadata": {
  "kernelspec": {
   "display_name": "Python 3",
   "language": "python",
   "name": "python3"
  },
  "language_info": {
   "codemirror_mode": {
    "name": "ipython",
    "version": 3
   },
   "file_extension": ".py",
   "mimetype": "text/x-python",
   "name": "python",
   "nbconvert_exporter": "python",
   "pygments_lexer": "ipython3",
   "version": "3.8.3"
  }
 },
 "nbformat": 4,
 "nbformat_minor": 4
}
