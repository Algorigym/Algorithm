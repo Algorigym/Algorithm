{
 "cells": [
  {
   "cell_type": "markdown",
   "metadata": {},
   "source": [
    "# 맥주 마시면서 걸어가기\n",
    "- BFS\n",
    "- https://www.acmicpc.net/problem/9205"
   ]
  },
  {
   "cell_type": "markdown",
   "metadata": {},
   "source": [
    "### 정리\n",
    "- BFS 문제\n",
    "- 플로이드 와샬 알고리즘으로도 풀 수 있다고 함\n",
    "- 시작점과 끝점이 정해져있어서 visited 배열 원소를 편의점 개수만큼만 할당하면 됨(처음에 visited[start] = True 해줄 필요 x)"
   ]
  },
  {
   "cell_type": "markdown",
   "metadata": {},
   "source": [
    "### 결과\n",
    "- 메모리 127508 KB\n",
    "- 시간 240 ms"
   ]
  },
  {
   "cell_type": "code",
   "execution_count": 9,
   "metadata": {},
   "outputs": [
    {
     "name": "stdout",
     "output_type": "stream",
     "text": [
      "2\n",
      "2\n",
      "0 0\n",
      "1000 0\n",
      "1000 1000\n",
      "2000 1000\n",
      "happy\n",
      "2\n",
      "0 0\n",
      "1000 0\n",
      "2000 1000\n",
      "2000 2000\n",
      "sad\n"
     ]
    }
   ],
   "source": [
    "from collections import deque\n",
    "\n",
    "# 갈 수 있는지 판단하는 함수\n",
    "def canGo(a, b):\n",
    "    if (abs(a[0] - b[0]) + abs(a[1] - b[1])) <= 1000:\n",
    "        return True\n",
    "    else:\n",
    "        return False\n",
    "\n",
    "t = int(input())\n",
    "\n",
    "for _ in range(t):\n",
    "    n = int(input())\n",
    "    \n",
    "    start1, start2 = map(int, input().split())\n",
    "    start = (start1, start2)\n",
    "    \n",
    "    arr = []\n",
    "    for i in range(n):\n",
    "        a, b = map(int, input().split())\n",
    "        arr.append((a, b))\n",
    "    \n",
    "    end1, end2 = map(int, input().split())\n",
    "    end = (end1, end2)\n",
    "    \n",
    "    visited = [False] * n\n",
    "    result = \"sad\"\n",
    "    q = deque([start]) # 한번 이외에 나오지 않기 때문에 visited를 True로 해줄 필요 x\n",
    "    while q:\n",
    "        v = q.popleft()\n",
    "        for i in range(n):\n",
    "            if canGo(v, end):\n",
    "                result = \"happy\"\n",
    "                break\n",
    "            if not visited[i] and canGo(v, arr[i]):\n",
    "                q.append(arr[i])\n",
    "                visited[i] = True\n",
    "    \n",
    "    if n == 0 and canGo(start, end): # 예외 처리\n",
    "        result = \"happy\"\n",
    "    print(result)"
   ]
  }
 ],
 "metadata": {
  "kernelspec": {
   "display_name": "Python 3",
   "language": "python",
   "name": "python3"
  },
  "language_info": {
   "codemirror_mode": {
    "name": "ipython",
    "version": 3
   },
   "file_extension": ".py",
   "mimetype": "text/x-python",
   "name": "python",
   "nbconvert_exporter": "python",
   "pygments_lexer": "ipython3",
   "version": "3.7.6"
  }
 },
 "nbformat": 4,
 "nbformat_minor": 4
}
