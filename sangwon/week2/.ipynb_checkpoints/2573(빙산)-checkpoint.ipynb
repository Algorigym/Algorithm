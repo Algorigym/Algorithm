{
 "cells": [
  {
   "cell_type": "code",
   "execution_count": 25,
   "metadata": {},
   "outputs": [
    {
     "name": "stdout",
     "output_type": "stream",
     "text": [
      "2 2\n",
      "2 2\n",
      "2 2\n"
     ]
    },
    {
     "ename": "KeyboardInterrupt",
     "evalue": "",
     "output_type": "error",
     "traceback": [
      "\u001b[0;31m---------------------------------------------------------------------------\u001b[0m",
      "\u001b[0;31mKeyboardInterrupt\u001b[0m                         Traceback (most recent call last)",
      "\u001b[0;32m<ipython-input-25-d071ab752e3a>\u001b[0m in \u001b[0;36m<module>\u001b[0;34m\u001b[0m\n\u001b[1;32m     69\u001b[0m             \u001b[0;32mreturn\u001b[0m \u001b[0;36m0\u001b[0m\u001b[0;34m\u001b[0m\u001b[0;34m\u001b[0m\u001b[0m\n\u001b[1;32m     70\u001b[0m \u001b[0;34m\u001b[0m\u001b[0m\n\u001b[0;32m---> 71\u001b[0;31m \u001b[0mprint\u001b[0m\u001b[0;34m(\u001b[0m\u001b[0mmain\u001b[0m\u001b[0;34m(\u001b[0m\u001b[0marr\u001b[0m\u001b[0;34m)\u001b[0m\u001b[0;34m)\u001b[0m\u001b[0;34m\u001b[0m\u001b[0;34m\u001b[0m\u001b[0m\n\u001b[0m",
      "\u001b[0;32m<ipython-input-25-d071ab752e3a>\u001b[0m in \u001b[0;36mmain\u001b[0;34m(arr)\u001b[0m\n\u001b[1;32m     65\u001b[0m                 \u001b[0;32mreturn\u001b[0m \u001b[0mi\u001b[0m\u001b[0;34m\u001b[0m\u001b[0;34m\u001b[0m\u001b[0m\n\u001b[1;32m     66\u001b[0m             \u001b[0;32melse\u001b[0m\u001b[0;34m:\u001b[0m\u001b[0;34m\u001b[0m\u001b[0;34m\u001b[0m\u001b[0m\n\u001b[0;32m---> 67\u001b[0;31m                 \u001b[0marr2\u001b[0m \u001b[0;34m=\u001b[0m \u001b[0mmakeNewArr\u001b[0m\u001b[0;34m(\u001b[0m\u001b[0marr\u001b[0m\u001b[0;34m)\u001b[0m\u001b[0;34m[\u001b[0m\u001b[0;34m:\u001b[0m\u001b[0;34m]\u001b[0m\u001b[0;34m\u001b[0m\u001b[0;34m\u001b[0m\u001b[0m\n\u001b[0m\u001b[1;32m     68\u001b[0m         \u001b[0;32mif\u001b[0m \u001b[0mi\u001b[0m \u001b[0;34m==\u001b[0m \u001b[0mmin\u001b[0m\u001b[0;34m(\u001b[0m\u001b[0mN\u001b[0m\u001b[0;34m,\u001b[0m \u001b[0mM\u001b[0m\u001b[0;34m)\u001b[0m\u001b[0;34m:\u001b[0m\u001b[0;34m\u001b[0m\u001b[0;34m\u001b[0m\u001b[0m\n\u001b[1;32m     69\u001b[0m             \u001b[0;32mreturn\u001b[0m \u001b[0;36m0\u001b[0m\u001b[0;34m\u001b[0m\u001b[0;34m\u001b[0m\u001b[0m\n",
      "\u001b[0;32m<ipython-input-25-d071ab752e3a>\u001b[0m in \u001b[0;36mmakeNewArr\u001b[0;34m(arr)\u001b[0m\n\u001b[1;32m     34\u001b[0m \u001b[0;32mdef\u001b[0m \u001b[0mmakeNewArr\u001b[0m\u001b[0;34m(\u001b[0m\u001b[0marr\u001b[0m\u001b[0;34m)\u001b[0m\u001b[0;34m:\u001b[0m\u001b[0;34m\u001b[0m\u001b[0;34m\u001b[0m\u001b[0m\n\u001b[1;32m     35\u001b[0m     \u001b[0mnewArr\u001b[0m \u001b[0;34m=\u001b[0m \u001b[0marr\u001b[0m\u001b[0;34m.\u001b[0m\u001b[0mcopy\u001b[0m\u001b[0;34m(\u001b[0m\u001b[0;34m)\u001b[0m\u001b[0;34m\u001b[0m\u001b[0;34m\u001b[0m\u001b[0m\n\u001b[0;32m---> 36\u001b[0;31m     \u001b[0;32mfor\u001b[0m \u001b[0mi\u001b[0m \u001b[0;32min\u001b[0m \u001b[0mrange\u001b[0m\u001b[0;34m(\u001b[0m\u001b[0mN\u001b[0m\u001b[0;34m)\u001b[0m\u001b[0;34m:\u001b[0m\u001b[0;34m\u001b[0m\u001b[0;34m\u001b[0m\u001b[0m\n\u001b[0m\u001b[1;32m     37\u001b[0m         \u001b[0;32mfor\u001b[0m \u001b[0mj\u001b[0m \u001b[0;32min\u001b[0m \u001b[0mrange\u001b[0m\u001b[0;34m(\u001b[0m\u001b[0mM\u001b[0m\u001b[0;34m)\u001b[0m\u001b[0;34m:\u001b[0m\u001b[0;34m\u001b[0m\u001b[0;34m\u001b[0m\u001b[0m\n\u001b[1;32m     38\u001b[0m             \u001b[0;32mif\u001b[0m \u001b[0marr\u001b[0m\u001b[0;34m[\u001b[0m\u001b[0mi\u001b[0m\u001b[0;34m]\u001b[0m\u001b[0;34m[\u001b[0m\u001b[0mj\u001b[0m\u001b[0;34m]\u001b[0m\u001b[0;34m:\u001b[0m\u001b[0;34m\u001b[0m\u001b[0;34m\u001b[0m\u001b[0m\n",
      "\u001b[0;31mKeyboardInterrupt\u001b[0m: "
     ]
    }
   ],
   "source": [
    "from collections import deque\n",
    "\n",
    "N, M = map(int, input().split())\n",
    "\n",
    "arr = []\n",
    "for i in range(N):\n",
    "    arr.append(list(map(int, input().split())))\n",
    "    \n",
    "visited = [[False] * M for _ in range(N)]\n",
    "directions = [(-1, 0), (1, 0), (0, 1), (0, -1)]\n",
    "\n",
    "\n",
    "def bfs(a, b):\n",
    "    visited[a][b] = True\n",
    "    q = deque((a, b))\n",
    "    while q:\n",
    "        v = q.popleft()\n",
    "        print('v----.',v)\n",
    "        for dx, dy in directions:\n",
    "            nx, ny = v[0] + dx, v[1] + dy\n",
    "            if 0 <= nx < N and 0 <= ny < M:\n",
    "                if not visited[nx][ny] and arr[nx][ny]:\n",
    "                    visited[nx][ny] = True\n",
    "                    q.append((nx, ny))\n",
    "    \n",
    "def getNum(arr): # 1 이상의 개수\n",
    "    cnt = 0\n",
    "    for i in range(N):\n",
    "        for j in range(M):\n",
    "            if arr[i][j]:\n",
    "                cnt += 1\n",
    "    return cnt\n",
    "\n",
    "def makeNewArr(arr):\n",
    "    newArr = arr.copy()\n",
    "    for i in range(N):\n",
    "        for j in range(M):\n",
    "            if arr[i][j]:\n",
    "                for dx, dy in directions:\n",
    "                    nx, ny = i + dx, j + dy\n",
    "\n",
    "                    if 0 <= nx < N and 0 <= ny < M:\n",
    "                        if arr[nx][ny] == 0:\n",
    "                            newArr[i][j] -= 1\n",
    "    return newArr\n",
    "                \n",
    "\n",
    "# 총 개수 = bfs 1회 후 visited원소의 True 개수가 같아야만 한덩어리임\n",
    "def isOne(arr):\n",
    "    for i in range(1, N-1):\n",
    "        for j in range(1, M-1):\n",
    "            if not arr[i][j]:\n",
    "                bfs(i, j)\n",
    "                if getNum(visited) == getNum(arr):\n",
    "                    return True\n",
    "                else:\n",
    "                    return False\n",
    "\n",
    "def main(arr):\n",
    "    \n",
    "    while True:\n",
    "        arr2 = arr[:]\n",
    "        for i in range(min(N, M)):\n",
    "            if isOne(arr2):\n",
    "                return i\n",
    "            else:\n",
    "                arr2 = makeNewArr(arr)[:]\n",
    "        if i == min(N, M):\n",
    "            return 0\n",
    "\n",
    "print(main(arr))\n"
   ]
  },
  {
   "cell_type": "code",
   "execution_count": null,
   "metadata": {},
   "outputs": [],
   "source": [
    "## 0 0 0 0 0 0 0\n",
    "0 2 4 5 3 0 0\n",
    "0 3 0 2 5 2 0\n",
    "0 7 6 2 4 0 0\n",
    "0 0 0 0 0 0 0"
   ]
  },
  {
   "cell_type": "code",
   "execution_count": 15,
   "metadata": {},
   "outputs": [
    {
     "name": "stdout",
     "output_type": "stream",
     "text": [
      "[[0, 2], [2, 1]]\n",
      "\n",
      "\n",
      "nx -1 ny 1\n",
      "nx 1 ny 1\n",
      "nx 0 ny 2\n",
      "nx 0 ny 0\n",
      "\n",
      "nx 0 ny 0\n",
      "nx 2 ny 0\n",
      "nx 1 ny 1\n",
      "nx 1 ny -1\n",
      "\n",
      "nx 0 ny 1\n",
      "nx 2 ny 1\n",
      "nx 1 ny 2\n",
      "nx 1 ny 0\n"
     ]
    },
    {
     "data": {
      "text/plain": [
       "[[0, 1], [1, 1]]"
      ]
     },
     "execution_count": 15,
     "metadata": {},
     "output_type": "execute_result"
    }
   ],
   "source": [
    "directions = [(-1, 0), (1, 0), (0, 1), (0, -1)]\n",
    "\n",
    "\n",
    "def makeNewArr(arr):\n",
    "    newArr = arr.copy()\n",
    "    print(newArr)\n",
    "    for i in range(2):\n",
    "        for j in range(2):\n",
    "            print()\n",
    "            if arr[i][j]:\n",
    "                for dx, dy in directions:\n",
    "                    nx, ny = i + dx, j + dy\n",
    "                    print('nx', nx, 'ny',ny)\n",
    "                    if 0 <= nx < 2 and 0 <= ny < 2:\n",
    "                        if arr[nx][ny] == 0:\n",
    "                            newArr[i][j] -= 1\n",
    "    return newArr\n",
    "makeNewArr([[0,2],[2,1]])\n"
   ]
  },
  {
   "cell_type": "code",
   "execution_count": null,
   "metadata": {},
   "outputs": [],
   "source": [
    "0 0 0 0 0 0 0\n",
    "0 2 4 5 3 0 0\n",
    "0 3 0 2 5 2 0\n",
    "0 7 6 2 4 0 0\n",
    "0 0 0 0 0 0 0"
   ]
  }
 ],
 "metadata": {
  "kernelspec": {
   "display_name": "Python 3",
   "language": "python",
   "name": "python3"
  },
  "language_info": {
   "codemirror_mode": {
    "name": "ipython",
    "version": 3
   },
   "file_extension": ".py",
   "mimetype": "text/x-python",
   "name": "python",
   "nbconvert_exporter": "python",
   "pygments_lexer": "ipython3",
   "version": "3.7.6"
  }
 },
 "nbformat": 4,
 "nbformat_minor": 4
}
