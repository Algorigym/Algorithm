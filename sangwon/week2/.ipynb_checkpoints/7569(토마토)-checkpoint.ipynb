{
 "cells": [
  {
   "cell_type": "markdown",
   "metadata": {},
   "source": [
    "## BFS: 여러 곳에서 시작해서 전염시키는 유형\n",
    "\n",
    "- 어떤 점에서 시작할 때는 가장 먼저 deque에 그 점을 넣고 시작함.\n",
    "- 그러나 이런 여러 곳에서 시작하는 유형은 deque에 시작 점을 모두 넣고 탐색을 시작함."
   ]
  },
  {
   "cell_type": "code",
   "execution_count": 29,
   "metadata": {},
   "outputs": [
    {
     "name": "stdout",
     "output_type": "stream",
     "text": [
      "5 3 2\n",
      "0 0 0 0 0\n",
      "0 0 0 0 0\n",
      "0 0 0 0 0\n",
      "0 0 0 0 0\n",
      "0 0 1 0 0\n",
      "0 0 0 0 0\n"
     ]
    },
    {
     "ename": "IndexError",
     "evalue": "list index out of range",
     "output_type": "error",
     "traceback": [
      "\u001b[0;31m---------------------------------------------------------------------------\u001b[0m",
      "\u001b[0;31mIndexError\u001b[0m                                Traceback (most recent call last)",
      "\u001b[0;32m<ipython-input-29-022ffd5d436f>\u001b[0m in \u001b[0;36m<module>\u001b[0;34m\u001b[0m\n\u001b[1;32m     21\u001b[0m     \u001b[0;32mfor\u001b[0m \u001b[0mj\u001b[0m \u001b[0;32min\u001b[0m \u001b[0mrange\u001b[0m\u001b[0;34m(\u001b[0m\u001b[0mN\u001b[0m\u001b[0;34m)\u001b[0m\u001b[0;34m:\u001b[0m\u001b[0;34m\u001b[0m\u001b[0;34m\u001b[0m\u001b[0m\n\u001b[1;32m     22\u001b[0m         \u001b[0;32mfor\u001b[0m \u001b[0mk\u001b[0m \u001b[0;32min\u001b[0m \u001b[0mrange\u001b[0m\u001b[0;34m(\u001b[0m\u001b[0mM\u001b[0m\u001b[0;34m)\u001b[0m\u001b[0;34m:\u001b[0m\u001b[0;34m\u001b[0m\u001b[0;34m\u001b[0m\u001b[0m\n\u001b[0;32m---> 23\u001b[0;31m             \u001b[0;32mif\u001b[0m \u001b[0marr\u001b[0m\u001b[0;34m[\u001b[0m\u001b[0mi\u001b[0m\u001b[0;34m]\u001b[0m\u001b[0;34m[\u001b[0m\u001b[0mj\u001b[0m\u001b[0;34m]\u001b[0m\u001b[0;34m[\u001b[0m\u001b[0mk\u001b[0m\u001b[0;34m]\u001b[0m \u001b[0;34m==\u001b[0m \u001b[0;36m1\u001b[0m\u001b[0;34m:\u001b[0m\u001b[0;34m\u001b[0m\u001b[0;34m\u001b[0m\u001b[0m\n\u001b[0m\u001b[1;32m     24\u001b[0m                 \u001b[0mq\u001b[0m\u001b[0;34m.\u001b[0m\u001b[0mappend\u001b[0m\u001b[0;34m(\u001b[0m\u001b[0;34m(\u001b[0m\u001b[0mi\u001b[0m\u001b[0;34m,\u001b[0m \u001b[0mj\u001b[0m\u001b[0;34m,\u001b[0m \u001b[0mk\u001b[0m\u001b[0;34m)\u001b[0m\u001b[0;34m)\u001b[0m\u001b[0;34m\u001b[0m\u001b[0;34m\u001b[0m\u001b[0m\n\u001b[1;32m     25\u001b[0m \u001b[0;34m\u001b[0m\u001b[0m\n",
      "\u001b[0;31mIndexError\u001b[0m: list index out of range"
     ]
    }
   ],
   "source": [
    "from collections import deque\n",
    "\n",
    "M, N, H = map(int, input().split())\n",
    "arr = [[[list(map(int, input().split()))] for _ in range(N)] for _ in range(H)]\n",
    "\n",
    "\n",
    "\n",
    "def bfs():\n",
    "    directions = [(-1, 0, 0), (0, -1, 0), (0, 0, -1), (1, 0, 0), (0, 1, 0), (0, 0, 1)]\n",
    "    while q:\n",
    "        v = q.popleft()\n",
    "        for dz, dx, dy in directions:\n",
    "            \n",
    "            nx, ny, nz = v[0] + dx, v[1] + dy, v[2] + dz\n",
    "            if 0<=nx<n and 0<=ny<M and 0<=nz<H:\n",
    "                if arr[nz][nx][ny] == 0:\n",
    "                    arr[nz][nx][ny] = arr[v[0]][v[1]][v[2]] + 1\n",
    "                    q.append((nx, ny, nz))\n",
    "\n",
    "for i in range(H):\n",
    "    for j in range(N):\n",
    "        for k in range(M):\n",
    "            if arr[i][j][k] == 1:\n",
    "                q.append((i, j, k))\n",
    "\n",
    "bfs()\n",
    "\n",
    "flag = True\n",
    "result = -1\n",
    "\n",
    "for i in arr:\n",
    "    for j in i:\n",
    "        for k in j:\n",
    "            if k == 0:\n",
    "                flag = False\n",
    "            result = max(result, k)\n",
    "\n",
    "if flag:\n",
    "    if result == 1:\n",
    "        print(0)\n",
    "    else:\n",
    "        print(result - 1)\n",
    "else:\n",
    "    print(-1)"
   ]
  },
  {
   "cell_type": "code",
   "execution_count": 16,
   "metadata": {},
   "outputs": [
    {
     "name": "stdout",
     "output_type": "stream",
     "text": [
      "1 1\n",
      "1\n",
      "1\n"
     ]
    }
   ],
   "source": [
    "from collections import deque\n",
    "\n",
    "def bfs(x, y):\n",
    "    directions = [(-1, 0), (0, 1), (1, 0), (0, -1)]\n",
    "    visited[x][y] = 1\n",
    "    q = deque([(x, y)])\n",
    "    while q:\n",
    "        v = q.popleft()\n",
    "        for dx, dy in directions:\n",
    "            nx, ny = v[0] + dx, v[1] + dy\n",
    "            if nx < 0 or nx >= N or ny < 0 or ny >= M:\n",
    "                continue\n",
    "            if arr[nx][ny] and not visited[nx][ny]:\n",
    "                visited[nx][ny] = visited[v[0]][v[1]]+1\n",
    "                q.append((nx, ny))\n",
    "            \n",
    "N, M = map(int, input().split())\n",
    "arr = [[0] * M for _ in range(N)]\n",
    "visited = [[0] * M for _ in range(N)]\n",
    "\n",
    "for i in range(N):\n",
    "    arr[i] = list(map(int, input()))\n",
    "\n",
    "bfs(0, 0)\n",
    "print(visited[N-1][M-1])"
   ]
  },
  {
   "cell_type": "code",
   "execution_count": null,
   "metadata": {},
   "outputs": [],
   "source": [
    "# directions = [(-1, 0, 0), (0, -1, 0), (0, 0, -1), (1, 0, 0), (0, 1, 0), (0, 0, 1)]\n",
    "for dx, dy, dz in directions:\n",
    "    print(dx, dy, dz)"
   ]
  },
  {
   "cell_type": "code",
   "execution_count": 11,
   "metadata": {},
   "outputs": [
    {
     "name": "stdout",
     "output_type": "stream",
     "text": [
      "1 2 3\n"
     ]
    }
   ],
   "source": [
    "a, b, c = 1,2,3\n",
    "print(a,b,c)"
   ]
  },
  {
   "cell_type": "code",
   "execution_count": null,
   "metadata": {},
   "outputs": [],
   "source": []
  }
 ],
 "metadata": {
  "kernelspec": {
   "display_name": "Python 3",
   "language": "python",
   "name": "python3"
  },
  "language_info": {
   "codemirror_mode": {
    "name": "ipython",
    "version": 3
   },
   "file_extension": ".py",
   "mimetype": "text/x-python",
   "name": "python",
   "nbconvert_exporter": "python",
   "pygments_lexer": "ipython3",
   "version": "3.7.6"
  }
 },
 "nbformat": 4,
 "nbformat_minor": 4
}
