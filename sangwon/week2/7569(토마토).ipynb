{
 "cells": [
  {
   "cell_type": "markdown",
   "metadata": {},
   "source": [
    "# 토마토\n",
    "- BFS\n",
    "- https://www.acmicpc.net/problem/7569"
   ]
  },
  {
   "cell_type": "markdown",
   "metadata": {},
   "source": [
    "### 정리\n",
    "- 이 문제는 여러 곳에서 시작해서 전염시키는 유형\n",
    "- 어떤 점에서 시작할 때는 가장 먼저 deque에 그 점을 넣고 시작함.\n",
    "- 그러나 이런 여러 곳에서 시작하는 유형은 deque에 시작 점을 모두 넣고 탐색을 시작함."
   ]
  },
  {
   "cell_type": "markdown",
   "metadata": {},
   "source": [
    "### 결과\n",
    "- 메모리 232744 KB\n",
    "- 시간 896 ms"
   ]
  },
  {
   "cell_type": "code",
   "execution_count": 33,
   "metadata": {},
   "outputs": [
    {
     "name": "stdout",
     "output_type": "stream",
     "text": [
      "4 3 2\n",
      "1 1 1 1\n",
      "1 1 1 1\n",
      "1 1 1 1\n",
      "1 1 1 1\n",
      "-1 -1 -1 -1\n",
      "1 1 1 -1\n",
      "0\n"
     ]
    }
   ],
   "source": [
    "from collections import deque\n",
    "\n",
    "M, N, H = map(int, input().split())\n",
    "arr = [[list(map(int, input().split())) for _ in range(N)] for _ in range(H)]\n",
    "\n",
    "q = deque()\n",
    "\n",
    "for i in range(H):\n",
    "    for j in range(N):\n",
    "        for k in range(M):\n",
    "            if arr[i][j][k] == 1:\n",
    "                q.append((i, j, k))\n",
    "\n",
    "def bfs():\n",
    "    directions = [(-1, 0, 0), (1, 0, 0), (0, 1, 0), (0, -1, 0), (0, 0, 1), (0, 0, -1)]\n",
    "    while q:\n",
    "        v = q.popleft()\n",
    "        for dx, dy, dz in directions:\n",
    "            nx, ny, nz = v[2] + dx, v[1] + dy, v[0] + dz\n",
    "            if 0 <= nx < M and 0 <= ny < N and 0 <= nz < H:\n",
    "                if arr[nz][ny][nx] == 0:\n",
    "                    arr[nz][ny][nx] = arr[v[0]][v[1]][v[2]] + 1\n",
    "                    q.append((nz, ny, nx))\n",
    "\n",
    "bfs()\n",
    "\n",
    "flag = True\n",
    "result = 1\n",
    "for i in arr:\n",
    "    for j in i:\n",
    "        for k in j:\n",
    "            if k == 0:\n",
    "                flag = False\n",
    "            result = max(result, k)\n",
    "    \n",
    "if flag:\n",
    "    if result == 1:\n",
    "        print(0)\n",
    "    else:\n",
    "        print(result - 1)\n",
    "else:\n",
    "    print(-1)\n"
   ]
  }
 ],
 "metadata": {
  "kernelspec": {
   "display_name": "Python 3",
   "language": "python",
   "name": "python3"
  },
  "language_info": {
   "codemirror_mode": {
    "name": "ipython",
    "version": 3
   },
   "file_extension": ".py",
   "mimetype": "text/x-python",
   "name": "python",
   "nbconvert_exporter": "python",
   "pygments_lexer": "ipython3",
   "version": "3.8.3"
  }
 },
 "nbformat": 4,
 "nbformat_minor": 4
}
