{
 "cells": [
  {
   "cell_type": "markdown",
   "metadata": {},
   "source": [
    "# 스타트링크\n",
    "- BFS\n",
    "- https://www.acmicpc.net/problem/5014"
   ]
  },
  {
   "cell_type": "markdown",
   "metadata": {},
   "source": [
    "### 정리\n",
    "- 시작점에서 dist[시작점] = 1 을 해야함. 조건문에서 지나갔는지 여부를 판단해야하기 때문.\n",
    "- 마지막 결과값에서 간 거리를 구하는 것이면 1 빼줘서 답 구하기"
   ]
  },
  {
   "cell_type": "markdown",
   "metadata": {},
   "source": [
    "### 결과\n",
    "- 메모리 133380KB\n",
    "- 시간 184ms"
   ]
  },
  {
   "cell_type": "code",
   "execution_count": 19,
   "metadata": {},
   "outputs": [
    {
     "name": "stdout",
     "output_type": "stream",
     "text": [
      "10 1 10 2 1\n",
      "6\n"
     ]
    }
   ],
   "source": [
    "from collections import deque\n",
    "\n",
    "F, S, G, U, D = map(int, input().split())\n",
    "dist = [0] * (F + 1)\n",
    "\n",
    "def bfs():\n",
    "    q = deque([S])\n",
    "    dist[S] = 1 # 이 부분 실수하지 말기\n",
    "    while q:\n",
    "        v = q.popleft()\n",
    "        if v == G:\n",
    "            return dist[v]\n",
    "        for i in (v - D, v + U):\n",
    "            if 1 <= i <= F and not dist[i]:\n",
    "                dist[i] = dist[v] + 1\n",
    "                q.append(i)\n",
    "result = bfs()\n",
    "if result:\n",
    "    print(result - 1)\n",
    "else:\n",
    "    print(\"use the stairs\")"
   ]
  }
 ],
 "metadata": {
  "kernelspec": {
   "display_name": "Python 3",
   "language": "python",
   "name": "python3"
  },
  "language_info": {
   "codemirror_mode": {
    "name": "ipython",
    "version": 3
   },
   "file_extension": ".py",
   "mimetype": "text/x-python",
   "name": "python",
   "nbconvert_exporter": "python",
   "pygments_lexer": "ipython3",
   "version": "3.8.3"
  }
 },
 "nbformat": 4,
 "nbformat_minor": 4
}
