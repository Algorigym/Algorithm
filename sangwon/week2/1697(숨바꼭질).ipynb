{
 "cells": [
  {
   "cell_type": "markdown",
   "metadata": {},
   "source": [
    "- (v * 2, v - 1, v + 1) 순으로 탐색을 하니 틀렸다고 나옴\n",
    "- (v - 1, v + 1, v * 2) or (v + 1, v - 1, v * 2) 으로 해야 정답 처리\n",
    "- 탐색 할 때 가까운 곳부터 탐색하기"
   ]
  },
  {
   "cell_type": "code",
   "execution_count": 26,
   "metadata": {},
   "outputs": [
    {
     "name": "stdout",
     "output_type": "stream",
     "text": [
      "5 17\n",
      "4\n"
     ]
    }
   ],
   "source": [
    "from collections import deque\n",
    "\n",
    "N, K = map(int, input().split())\n",
    "visited = [0]*100001\n",
    "\n",
    "def bfs():\n",
    "    q = deque([N])\n",
    "    while q:\n",
    "        v = q.popleft()\n",
    "        if v == K: return visited[v]\n",
    "        for i in (v - 1, v + 1, v * 2):\n",
    "            if 0 <= i <= 100000 and not visited[i]:\n",
    "                visited[i] = visited[v] + 1\n",
    "                q.append(i)\n",
    "                    \n",
    "print(bfs())"
   ]
  },
  {
   "cell_type": "code",
   "execution_count": null,
   "metadata": {},
   "outputs": [],
   "source": []
  }
 ],
 "metadata": {
  "kernelspec": {
   "display_name": "Python 3",
   "language": "python",
   "name": "python3"
  },
  "language_info": {
   "codemirror_mode": {
    "name": "ipython",
    "version": 3
   },
   "file_extension": ".py",
   "mimetype": "text/x-python",
   "name": "python",
   "nbconvert_exporter": "python",
   "pygments_lexer": "ipython3",
   "version": "3.7.6"
  }
 },
 "nbformat": 4,
 "nbformat_minor": 4
}
