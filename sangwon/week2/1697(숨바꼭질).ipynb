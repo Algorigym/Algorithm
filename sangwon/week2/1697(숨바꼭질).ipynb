{
 "cells": [
  {
   "cell_type": "code",
   "execution_count": 18,
   "metadata": {},
   "outputs": [
    {
     "name": "stdout",
     "output_type": "stream",
     "text": [
      "5 17\n",
      "4\n"
     ]
    }
   ],
   "source": [
    "from collections import deque\n",
    "\n",
    "N, K = map(int, input().split())\n",
    "visited = [0]*100001\n",
    "def bfs():\n",
    "    q = deque([N])\n",
    "    while q:\n",
    "        v = q.popleft()\n",
    "        if v == K: return visited[v]\n",
    "        for i in [v * 2, v + 1, v - 1]:\n",
    "            if 0 <= i <= 100000:\n",
    "                if not visited[i]:\n",
    "                    visited[i] = visited[v] + 1\n",
    "                    q.append(i)\n",
    "                    \n",
    "print(bfs())"
   ]
  }
 ],
 "metadata": {
  "kernelspec": {
   "display_name": "Python 3",
   "language": "python",
   "name": "python3"
  },
  "language_info": {
   "codemirror_mode": {
    "name": "ipython",
    "version": 3
   },
   "file_extension": ".py",
   "mimetype": "text/x-python",
   "name": "python",
   "nbconvert_exporter": "python",
   "pygments_lexer": "ipython3",
   "version": "3.7.6"
  }
 },
 "nbformat": 4,
 "nbformat_minor": 4
}
