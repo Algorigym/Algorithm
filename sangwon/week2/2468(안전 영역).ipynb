{
 "cells": [
  {
   "cell_type": "markdown",
   "metadata": {},
   "source": [
    "# 안전 영역\n",
    "- BFS\n",
    "- https://www.acmicpc.net/problem/2468"
   ]
  },
  {
   "cell_type": "markdown",
   "metadata": {},
   "source": [
    "### 정리\n",
    "- 각 높이마다 지날 수 있는 점을 다르게 설정해줌"
   ]
  },
  {
   "cell_type": "markdown",
   "metadata": {},
   "source": [
    "### 결과\n",
    "- 메모리 130972 KB\n",
    "- 시간 344 ms"
   ]
  },
  {
   "cell_type": "code",
   "execution_count": 17,
   "metadata": {
    "scrolled": true
   },
   "outputs": [
    {
     "name": "stdout",
     "output_type": "stream",
     "text": [
      "5\n",
      "6 8 2 6 2\n",
      "3 2 3 4 6\n",
      "6 7 3 3 2\n",
      "7 2 5 3 6\n",
      "8 9 5 2 7\n",
      "5\n"
     ]
    }
   ],
   "source": [
    "from collections import deque\n",
    "\n",
    "def bfs(arr, x, y): # 2차원 배열과 시작점의 x좌표, y좌표가 입력 값으로 들어옴\n",
    "    directions = [(-1, 0), (1, 0), (0, 1), (0, -1)]\n",
    "    q = deque([(x, y)])\n",
    "    visited[x][y] = True\n",
    "    cnt = 0 # 하나의 안전영역에 포함된 영역의 개수\n",
    "    while q:\n",
    "        v = q.popleft()\n",
    "        cnt += 1\n",
    "        for dx, dy in directions:\n",
    "            nx, ny = v[0] + dx, v[1] + dy\n",
    "            if 0<= nx < N and 0 <= ny < N:\n",
    "                if arr[nx][ny] == 1 and not visited[nx][ny]:\n",
    "                    visited[nx][ny] = True\n",
    "                    q.append((nx, ny))\n",
    "    return cnt\n",
    "\n",
    "N = int(input())\n",
    "arr = [list(map(int, input().split())) for _ in range(N)]\n",
    "\n",
    "max_height = 1\n",
    "min_height = 100\n",
    "for i in arr:\n",
    "    for j in i:\n",
    "        max_height = max(max_height, j) # 최대 높이\n",
    "        min_height = min(min_height, j) # 최소 높이\n",
    "\n",
    "        \n",
    "max_len = 0\n",
    "for i in range(min_height, max_height + 1): # 최소높이부터 최대높이까지 반복\n",
    "    new_arr = [[0] * N for _ in range(N)] # 0과 1로 배열을 만들어줄 것임, 루프마다 초기화\n",
    "    visited = [[False] * N for _ in range(N)] # new_arr에서 방문 여부 확인, 루프마다 초기화\n",
    "    \n",
    "    for j in range(N):\n",
    "        for k in range(N):\n",
    "            if arr[k][j] >= i: # 현재 루프의 높이 이상인 영역만 1로 만들기 위한 조건\n",
    "                new_arr[k][j] = 1\n",
    "    result = [] # 안전 영역 개수를 담을 배열\n",
    "    for i in range(N):\n",
    "        for k in range(N):\n",
    "            if new_arr[i][k] == 1 and not visited[i][k]: # 지나갈 수 있고 방문하지 않은 곳을 bfs의 시작점으로 놓음\n",
    "                result.append(bfs(new_arr, i, k)) # bfs 하나당 안전 영역 개수가 return 되고 result에 append해줌\n",
    "    max_len = max(max_len, len(result)) # 안전 영역 개수의 최대 값\n",
    "print(max_len)"
   ]
  }
 ],
 "metadata": {
  "kernelspec": {
   "display_name": "Python 3",
   "language": "python",
   "name": "python3"
  },
  "language_info": {
   "codemirror_mode": {
    "name": "ipython",
    "version": 3
   },
   "file_extension": ".py",
   "mimetype": "text/x-python",
   "name": "python",
   "nbconvert_exporter": "python",
   "pygments_lexer": "ipython3",
   "version": "3.8.3"
  }
 },
 "nbformat": 4,
 "nbformat_minor": 4
}
