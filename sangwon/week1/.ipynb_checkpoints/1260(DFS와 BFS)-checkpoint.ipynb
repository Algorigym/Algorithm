{
 "cells": [
  {
   "cell_type": "code",
   "execution_count": 4,
   "metadata": {},
   "outputs": [
    {
     "name": "stdout",
     "output_type": "stream",
     "text": [
      "1000 1 1000\n",
      "999 1000\n",
      "1000 999 \n",
      "1000 999 "
     ]
    }
   ],
   "source": [
    "from collections import deque\n",
    "\n",
    "N, M, V = map(int, input().split())\n",
    "adj = [[] for _ in range(N + 1)]\n",
    "\n",
    "for _ in range(M):\n",
    "    a, b = map(int, input().split())\n",
    "    adj[a].append(b)\n",
    "    adj[b].append(a)\n",
    "    \n",
    "def dfs(v):\n",
    "    visited[v] = True\n",
    "    print(v, end = ' ')\n",
    "    for i in adj[v]:\n",
    "        if not visited[i]:\n",
    "            dfs(i)\n",
    "            \n",
    "def bfs(v):\n",
    "    q = deque([v])\n",
    "    while q:\n",
    "        v = q.popleft()\n",
    "        if not visited[v]:\n",
    "            visited[v] = True\n",
    "            print(v, end = ' ')\n",
    "            for i in adj[v]:\n",
    "                if not visited[i]:\n",
    "                    q.append(i)\n",
    "    \n",
    "for e in adj:\n",
    "    e.sort()\n",
    "    \n",
    "visited = [False] * (N + 1)\n",
    "dfs(V)\n",
    "print()\n",
    "visited = [False] * (N + 1)\n",
    "bfs(V)"
   ]
  }
 ],
 "metadata": {
  "kernelspec": {
   "display_name": "Python 3",
   "language": "python",
   "name": "python3"
  },
  "language_info": {
   "codemirror_mode": {
    "name": "ipython",
    "version": 3
   },
   "file_extension": ".py",
   "mimetype": "text/x-python",
   "name": "python",
   "nbconvert_exporter": "python",
   "pygments_lexer": "ipython3",
   "version": "3.7.6"
  }
 },
 "nbformat": 4,
 "nbformat_minor": 4
}
