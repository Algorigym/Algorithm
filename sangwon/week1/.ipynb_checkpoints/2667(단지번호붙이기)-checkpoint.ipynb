{
 "cells": [
  {
   "cell_type": "code",
   "execution_count": 22,
   "metadata": {
    "scrolled": true
   },
   "outputs": [
    {
     "name": "stdout",
     "output_type": "stream",
     "text": [
      "7\n",
      "0110100\n",
      "0110101\n",
      "1110101\n",
      "0000111\n",
      "0100000\n",
      "0111110\n",
      "0111000\n",
      "3\n",
      "7\n",
      "8\n",
      "9\n"
     ]
    }
   ],
   "source": [
    "from collections import deque\n",
    "\n",
    "def bfs(x, y):\n",
    "    directions = [(-1, 0), (0, 1), (1, 0), (0, -1)]\n",
    "    visited[x][y] = 1\n",
    "    q = deque([(x, y)])\n",
    "    cnt = 1\n",
    "    while q:\n",
    "        v = q.popleft()\n",
    "        for dx, dy in directions:\n",
    "            nx, ny = v[0] + dx, v[1] + dy\n",
    "            if nx < 0 or nx >= N or ny < 0 or ny >= N:\n",
    "                continue\n",
    "            if arr[nx][ny] and not visited[nx][ny]:\n",
    "                visited[nx][ny] = 1\n",
    "                cnt += 1\n",
    "                q.append((nx, ny))\n",
    "    return cnt\n",
    "        \n",
    "    \n",
    "N = int(input())\n",
    "arr = []\n",
    "\n",
    "for i in range(N):\n",
    "    arr.append(list(map(int, input())))\n",
    "\n",
    "visited = [[0]*N for _ in range(N)]\n",
    "result = []\n",
    "\n",
    "for i in range(N):\n",
    "    for j in range(N):\n",
    "        if arr[i][j] and not visited[i][j]:\n",
    "            result.append(bfs(i, j))\n",
    "            \n",
    "print(len(result))\n",
    "for i in sorted(result):\n",
    "    print(i)"
   ]
  }
 ],
 "metadata": {
  "kernelspec": {
   "display_name": "Python 3",
   "language": "python",
   "name": "python3"
  },
  "language_info": {
   "codemirror_mode": {
    "name": "ipython",
    "version": 3
   },
   "file_extension": ".py",
   "mimetype": "text/x-python",
   "name": "python",
   "nbconvert_exporter": "python",
   "pygments_lexer": "ipython3",
   "version": "3.7.6"
  }
 },
 "nbformat": 4,
 "nbformat_minor": 4
}
