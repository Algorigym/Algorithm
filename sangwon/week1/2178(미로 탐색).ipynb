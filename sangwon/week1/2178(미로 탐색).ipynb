{
 "cells": [
  {
   "cell_type": "markdown",
   "metadata": {},
   "source": [
    "- 최단거리를 DFS로 풀면 경로가 아주 많을 수 있기 때문에 시간복잡도가 매우 커짐. 최단거리 문제는 BFS로 풀기\n",
    "- 방문한 모든 점이라면 개수를 세서 return 하고 최단거리의 경우에는 (기존 거리 + 1) 방식으로 구현"
   ]
  },
  {
   "cell_type": "code",
   "execution_count": 27,
   "metadata": {},
   "outputs": [
    {
     "name": "stdout",
     "output_type": "stream",
     "text": [
      "4 6\n",
      "101111\n",
      "101010\n",
      "101011\n",
      "111011\n",
      "15\n"
     ]
    }
   ],
   "source": [
    "from collections import deque\n",
    "\n",
    "def bfs(x, y):\n",
    "    directions = [(-1, 0), (0, 1), (1, 0), (0, -1)]\n",
    "    visited[x][y] = 1\n",
    "    q = deque([(x, y)])\n",
    "    while q:\n",
    "        v = q.popleft()\n",
    "        for dx, dy in directions:\n",
    "            nx, ny = v[0] + dx, v[1] + dy\n",
    "            if nx < 0 or nx >= N or ny < 0 or ny >= M:\n",
    "                continue\n",
    "            if arr[nx][ny] and not visited[nx][ny]:\n",
    "                visited[nx][ny] = visited[v[0]][v[1]]+1\n",
    "                q.append((nx, ny))\n",
    "            \n",
    "N, M = map(int, input().split())\n",
    "arr = [[0] * M for _ in range(N)]\n",
    "visited = [[0] * M for _ in range(N)]\n",
    "\n",
    "for i in range(N):\n",
    "    arr[i] = list(map(int, input()))\n",
    "\n",
    "bfs(0, 0)\n",
    "print(visited[N-1][M-1])"
   ]
  }
 ],
 "metadata": {
  "kernelspec": {
   "display_name": "Python 3",
   "language": "python",
   "name": "python3"
  },
  "language_info": {
   "codemirror_mode": {
    "name": "ipython",
    "version": 3
   },
   "file_extension": ".py",
   "mimetype": "text/x-python",
   "name": "python",
   "nbconvert_exporter": "python",
   "pygments_lexer": "ipython3",
   "version": "3.8.3"
  }
 },
 "nbformat": 4,
 "nbformat_minor": 4
}
