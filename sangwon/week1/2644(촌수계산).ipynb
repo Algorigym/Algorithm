{
 "cells": [
  {
   "cell_type": "code",
   "execution_count": 19,
   "metadata": {},
   "outputs": [
    {
     "name": "stdout",
     "output_type": "stream",
     "text": [
      "9\n",
      "7 3\n",
      "7\n",
      "1 2\n",
      "1 3\n",
      "2 7\n",
      "2 8\n",
      "2 9\n",
      "4 5\n",
      "4 6\n",
      "3\n"
     ]
    }
   ],
   "source": [
    "from collections import deque\n",
    "\n",
    "n = int(input())\n",
    "a, b = map(int, input().split())\n",
    "m = int(input())\n",
    "\n",
    "adj = [[] for _ in range(n + 1)]\n",
    "visited = [0] * (n + 1)\n",
    "\n",
    "for i in range(m):\n",
    "    x, y = map(int, input().split())\n",
    "    adj[x].append(y)\n",
    "    adj[y].append(x)\n",
    "            \n",
    "def bfs(v):\n",
    "    q = deque([v])\n",
    "    visited[v] = 1 # 지나갔다는 표시를 위해 1 대입, 결과값 낼 때 1 빼주기\n",
    "    while q:\n",
    "        v = q.popleft()\n",
    "        for i in adj[v]:\n",
    "            if not visited[i]:\n",
    "                q.append(i)\n",
    "                visited[i] = visited[v] + 1\n",
    "\n",
    "bfs(a)\n",
    "if visited[b] - 1:\n",
    "    print(visited[b] - 1)\n",
    "else:\n",
    "    print(-1)"
   ]
  },
  {
   "cell_type": "markdown",
   "metadata": {},
   "source": [
    "- 아래 bfs 방법 대입"
   ]
  },
  {
   "cell_type": "code",
   "execution_count": 20,
   "metadata": {},
   "outputs": [],
   "source": [
    "def bfs(v):\n",
    "    q = deque([v])\n",
    "    visited[v] = True\n",
    "    while q:\n",
    "        v = q.popleft()\n",
    "        print(v, end=' ')\n",
    "        for i in adj[v]:\n",
    "            if not visited[i]:\n",
    "                q.append(i)\n",
    "                visited[i]=True"
   ]
  }
 ],
 "metadata": {
  "kernelspec": {
   "display_name": "Python 3",
   "language": "python",
   "name": "python3"
  },
  "language_info": {
   "codemirror_mode": {
    "name": "ipython",
    "version": 3
   },
   "file_extension": ".py",
   "mimetype": "text/x-python",
   "name": "python",
   "nbconvert_exporter": "python",
   "pygments_lexer": "ipython3",
   "version": "3.8.3"
  }
 },
 "nbformat": 4,
 "nbformat_minor": 4
}
