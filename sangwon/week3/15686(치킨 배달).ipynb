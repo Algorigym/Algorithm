{
 "cells": [
  {
   "cell_type": "markdown",
   "metadata": {},
   "source": [
    "# 치킨 배달\n",
    "- 완전 탐색, 구현\n",
    "- https://www.acmicpc.net/problem/15686\n",
    "\n",
    "### 정리\n",
    "- 완전탐색(삼성 SW 역량 테스트 기출 문제)\n",
    "- itertools의 combination을 처음 사용해봄\n",
    "- from sys import maxsize를 통해 매우 큰 값을 얻을 수 있었음\n",
    "- 모든 조합을 반환해 줘서 완전 탐색 문제에 적합\n",
    "- 완전 탐색인 만큼 모든 경우를 탐색하여 최소값을 구함\n",
    "- 참고 url: https://gingerkang.tistory.com/8\n",
    "\n",
    "### 결과\n",
    "- 메모리 123552 KB\n",
    "- 시간 168 ms"
   ]
  },
  {
   "cell_type": "code",
   "execution_count": 12,
   "metadata": {},
   "outputs": [
    {
     "name": "stdout",
     "output_type": "stream",
     "text": [
      "5 3\n",
      "0 0 1 0 0\n",
      "0 0 2 0 1\n",
      "0 1 2 0 0\n",
      "0 0 1 0 0\n",
      "0 0 0 0 2\n",
      "5\n"
     ]
    }
   ],
   "source": [
    "from itertools import combinations\n",
    "from sys import maxsize # 큰 값\n",
    "\n",
    "N, M = map(int, input().split())\n",
    "arr = [list(map(int, input().split())) for _ in range(N)] # 앞으로 이 방법 사용할 것\n",
    "home, chicken = [], []\n",
    "\n",
    "for i in range(N):\n",
    "    for j in range(N):\n",
    "        if arr[i][j] == 1:\n",
    "            home.append((i, j))\n",
    "        elif arr[i][j] == 2:\n",
    "            chicken.append((i, j))\n",
    "            \n",
    "ans = maxsize\n",
    "for i in combinations(chicken, M): # ex) chicken = 5, M = 3 -> 5C3 = 10개 조합\n",
    "    tmp = 0\n",
    "    for j in home:\n",
    "        result = maxsize\n",
    "        for k in i:\n",
    "            distance = abs(j[0] - k[0]) + abs(j[1] - k[1])\n",
    "            result = min(result, distance)\n",
    "        tmp += result\n",
    "    ans = min(ans, tmp)\n",
    "    \n",
    "print(ans)"
   ]
  }
 ],
 "metadata": {
  "kernelspec": {
   "display_name": "Python 3",
   "language": "python",
   "name": "python3"
  },
  "language_info": {
   "codemirror_mode": {
    "name": "ipython",
    "version": 3
   },
   "file_extension": ".py",
   "mimetype": "text/x-python",
   "name": "python",
   "nbconvert_exporter": "python",
   "pygments_lexer": "ipython3",
   "version": "3.8.3"
  }
 },
 "nbformat": 4,
 "nbformat_minor": 4
}
