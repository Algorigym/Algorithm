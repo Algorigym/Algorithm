{
 "cells": [
  {
   "cell_type": "markdown",
   "metadata": {},
   "source": [
    "# 로봇 청소기\n",
    "- 구현, 시뮬레이션\n",
    "- https://www.acmicpc.net/problem/2573\n",
    "\n",
    "### 정리\n",
    "- ans를 전역변수로 사용해서 재귀를 사용하는 방법\n",
    "- 왼쪽 방향으로의 전환을 (d + 3) % 4, 후진방향을 (d + 2) % 4 로 나타냄\n",
    "- 청소 가능할 때, 불가능할 때를 정확히 따진 후 재귀 진행\n",
    "- 다시 풀어볼 것\n",
    "\n",
    "### 결과\n",
    "- 메모리 229564 KB\n",
    "- 시간 144 ms"
   ]
  },
  {
   "cell_type": "code",
   "execution_count": 3,
   "metadata": {},
   "outputs": [
    {
     "name": "stdout",
     "output_type": "stream",
     "text": [
      "3 3\n",
      "1 1 0\n",
      "1 1 1\n",
      "1 0 1\n",
      "1 1 1\n",
      "1\n"
     ]
    }
   ],
   "source": [
    "from collections import deque\n",
    "\n",
    "N, M = map(int, input().split())\n",
    "r, c, d = map(int, input().split())\n",
    "\n",
    "arr = [list(map(int, input().split())) for _ in range(N)]\n",
    "directions = [(-1, 0), (0, 1), (1, 0), (0, -1)] # 북, 동, 남, 서\n",
    "ans = 0\n",
    "\n",
    "def clean(x, y, d):\n",
    "    global ans\n",
    "    if arr[x][y] == 0: # 청소 가능하면\n",
    "        arr[x][y] = 2 # 2로 바꿔준다.\n",
    "        ans += 1\n",
    "    for _ in range(4):\n",
    "        nd = (d + 3) % 4 # 현재 방향 기준 왼쪽 방향으로 회전\n",
    "        nx = x + directions[nd][0]\n",
    "        ny = y + directions[nd][1]\n",
    "        if arr[nx][ny] == 0: # 갈 수 있으면\n",
    "            clean(nx, ny, nd) # 재귀(새로운 방향에서 청소 시작)\n",
    "            return\n",
    "        d = nd # 북동남서에서 청소할 곳이 없으면 방향을 새로운 방향으로 업데이트 해준다.\n",
    "    nd = (d + 2) % 4 # 후진 방향\n",
    "    nx = x + directions[nd][0]\n",
    "    ny = y + directions[nd][1]\n",
    "    if arr[nx][ny] == 1: # 벽이면\n",
    "        return\n",
    "    clean(nx, ny, d) # 방향은 유지하고 뒤로 오기 때문에 nd가 아닌 d\n",
    "    \n",
    "clean(r, c, d)\n",
    "print(ans)"
   ]
  }
 ],
 "metadata": {
  "kernelspec": {
   "display_name": "Python 3",
   "language": "python",
   "name": "python3"
  },
  "language_info": {
   "codemirror_mode": {
    "name": "ipython",
    "version": 3
   },
   "file_extension": ".py",
   "mimetype": "text/x-python",
   "name": "python",
   "nbconvert_exporter": "python",
   "pygments_lexer": "ipython3",
   "version": "3.7.6"
  }
 },
 "nbformat": 4,
 "nbformat_minor": 4
}
