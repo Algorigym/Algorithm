{
 "cells": [
  {
   "cell_type": "markdown",
   "metadata": {},
   "source": [
    "# 빙산\n",
    "- BFS\n",
    "- https://www.acmicpc.net/problem/2573\n",
    "\n",
    "### 정리\n",
    "- arr, visited 등 변수 선언 위치 잘 파악하기\n",
    "- 배열을 복사할 때는 copy.deepcopy(배열)\n",
    "- 프로그램 종료시키기 위해서는 sys.exit 사용\n",
    "- 덩어리 개수 세는 것을 함수로 하려했지만 복잡. while문 마지막 부분처럼 간단하게 덩어리 세기 가능\n",
    "\n",
    "### 결과\n",
    "- 메모리 229564 KB\n",
    "- 시간 3380 ms"
   ]
  },
  {
   "cell_type": "code",
   "execution_count": 21,
   "metadata": {},
   "outputs": [
    {
     "name": "stdout",
     "output_type": "stream",
     "text": [
      "5 7\n",
      "2\n"
     ]
    },
    {
     "ename": "SystemExit",
     "evalue": "0",
     "output_type": "error",
     "traceback": [
      "An exception has occurred, use %tb to see the full traceback.\n",
      "\u001b[0;31mSystemExit\u001b[0m\u001b[0;31m:\u001b[0m 0\n"
     ]
    }
   ],
   "source": [
    "from collections import deque\n",
    "from sys import exit \n",
    "import copy\n",
    "\n",
    "N, M = map(int, input().split())\n",
    "\n",
    "arr = [list(map(int, input().split())) for _ in range(N)]\n",
    "    \n",
    "directions = [(-1, 0), (1, 0), (0, 1), (0, -1)]\n",
    "\n",
    "def bfs(a, b):\n",
    "    visited[a][b] = True\n",
    "    q = deque([(a, b)])\n",
    "    while q:\n",
    "        v = q.popleft()\n",
    "        for dx, dy in directions:\n",
    "            nx, ny = v[0] + dx, v[1] + dy\n",
    "            if 0 <= nx < N and 0 <= ny < M:\n",
    "                if not visited[nx][ny] and arr[nx][ny]:\n",
    "                    visited[nx][ny] = True\n",
    "                    q.append((nx, ny))    \n",
    "\n",
    "\n",
    "def makeNewArr(): # 빙산 깎아줌\n",
    "    newArr = copy.deepcopy(arr)\n",
    "    for i in range(N):\n",
    "        for j in range(M):\n",
    "            if newArr[i][j]:\n",
    "                for dx, dy in directions:\n",
    "                    nx, ny = i + dx, j + dy\n",
    "                    if 0 <= nx < N and 0 <= ny < M:\n",
    "                        if arr[nx][ny] == 0 and newArr[i][j]: # newArr[i][j]가 있는 이유는 음수가 되지 않게 하기 위해서임\n",
    "                            newArr[i][j] -= 1\n",
    "    return newArr\n",
    "                \n",
    "                \n",
    "def isZero(arr):\n",
    "    for i in range(N):\n",
    "        for j in range(M):\n",
    "            if arr[i][j]:\n",
    "                return False\n",
    "    return True\n",
    "        \n",
    "# arr = [\n",
    "#     [0,0,0,0,0,0,0],\n",
    "#     [0,2,4,5,3,0,0],\n",
    "#     [0,3,0,2,5,2,0],\n",
    "#     [0,7,6,2,4,0,0],\n",
    "#     [0,0,0,0,0,0,0]\n",
    "# ]\n",
    "\n",
    "year = 1\n",
    "while True:\n",
    "    newArr = makeNewArr() # 빙산을 깎아줌\n",
    "    if isZero(newArr): # 다 녹을 때까지 분리 안됨\n",
    "        print(0)\n",
    "        exit(0)\n",
    "    arr = copy.deepcopy(newArr) # arr을 깎인 빙산으로 업데이트 시켜줌\n",
    "    visited = [[False] * M for _ in range(N)] # 매 루프마다 bfs 실행해야 하기 때문에 여기서 초기화\n",
    "    cnt = 1 # 덩어리 개수\n",
    "    for i in range(N):\n",
    "        for j in range(M):\n",
    "            if newArr[i][j] and not visited[i][j]: # 빙산이 있고 아직 방문하지 않았다면\n",
    "                if cnt == 2:\n",
    "                    print(year)\n",
    "                    exit(0)\n",
    "                bfs(i, j) # 탐색\n",
    "                cnt += 1 # 덩어리 수 증가\n",
    "    year += 1\n"
   ]
  }
 ],
 "metadata": {
  "kernelspec": {
   "display_name": "Python 3",
   "language": "python",
   "name": "python3"
  },
  "language_info": {
   "codemirror_mode": {
    "name": "ipython",
    "version": 3
   },
   "file_extension": ".py",
   "mimetype": "text/x-python",
   "name": "python",
   "nbconvert_exporter": "python",
   "pygments_lexer": "ipython3",
   "version": "3.7.6"
  }
 },
 "nbformat": 4,
 "nbformat_minor": 4
}
