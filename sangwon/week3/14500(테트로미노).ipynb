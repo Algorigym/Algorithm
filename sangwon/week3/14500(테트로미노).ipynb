{
 "cells": [
  {
   "cell_type": "markdown",
   "metadata": {},
   "source": [
    "# 테트로미노\n",
    "- 완전 탐색, 구현\n",
    "- https://www.acmicpc.net/problem/14500\n",
    "\n",
    "### 정리\n",
    "- 완전탐색(삼성 SW 역량 테스트 기출 문제)\n",
    "- 모든 경우의 수를 탐색하되 주의할 점은 ㄴ모양의 경우 대칭되면 다른 모양이 된다는 점\n",
    "- 왼쪽 상단을 항상 (0, 0)으로 놓았다.\n",
    "- ㄴ 모양의 경우 (0, 0), (1, 0), (1, 1), (1, 2)가 이동 좌표이다.\n",
    "- ㅓ 모양의 경우 (0, 1), (1, 0), (1, 1), (2, 1)가 이동 좌표이다.\n",
    "- 전역 변수를 하나 선언하고 매 루프마다 값이 업데이트 되도록 한다.\n",
    "\n",
    "### 결과\n",
    "- 메모리 125280 KB\n",
    "- 시간 592 ms"
   ]
  },
  {
   "cell_type": "code",
   "execution_count": 7,
   "metadata": {},
   "outputs": [
    {
     "name": "stdout",
     "output_type": "stream",
     "text": [
      "4 5\n",
      "1 2 3 4 5\n",
      "1 2 3 4 5\n",
      "1 2 3 4 5\n",
      "1 2 3 4 5\n",
      "20\n"
     ]
    }
   ],
   "source": [
    "N, M = map(int, input().split())\n",
    "\n",
    "arr = [list(map(int, input().split())) for _ in range(N)]\n",
    "\n",
    "directions = [\n",
    "    [(0,0), (0,1), (0,2), (0,3)],\n",
    "    [(0,0), (1,0), (2,0), (3,0)],\n",
    "    [(0,0), (0,1), (1,0), (1,1)],\n",
    "    [(0,0), (0,1), (0,2), (1,1)],\n",
    "    [(1,0), (1,1), (1,2), (0,1)],\n",
    "    [(0,0), (1,0), (2,0), (1,1)],\n",
    "    [(1,0), (0,1), (1,1), (2,1)],\n",
    "    [(1,0), (2,0), (0,1), (1,1)],\n",
    "    [(0,0), (1,0), (1,1), (2,1)],\n",
    "    [(1,0), (0,1), (1,1), (0,2)],\n",
    "    [(0,0), (0,1), (1,1), (1,2)],\n",
    "    [(0,0), (0,1), (0,2), (1,0)], \n",
    "    [(1,0), (1,1), (1,2), (0,2)],\n",
    "    [(0,0), (1,0), (1,1), (1,2)],\n",
    "    [(0,0), (0,1), (0,2), (1,2)],\n",
    "    [(0,0), (1,0), (2,0), (2,1)],\n",
    "    [(2,0), (2,1), (1,1), (0,1)],\n",
    "    [(0,0), (0,1), (1,0), (2,0)], \n",
    "    [(0,0), (0,1), (1,1), (2,1)]\n",
    "]\n",
    "\n",
    "ans = 0\n",
    "\n",
    "def getSum(x, y):\n",
    "    global ans\n",
    "    for i in range(19):\n",
    "        result = 0\n",
    "        for j in range(4):\n",
    "            nx = x + directions[i][j][0]\n",
    "            ny = y + directions[i][j][1]\n",
    "            if 0 <= nx < N and 0 <= ny < M:\n",
    "                result += arr[nx][ny]\n",
    "            else: break\n",
    "        ans = max(ans, result)\n",
    "        \n",
    "def sol():\n",
    "    global ans\n",
    "    for i in range(N):\n",
    "        for j in range(M):\n",
    "            getSum(i, j)\n",
    "           \n",
    "sol()\n",
    "print(ans)\n"
   ]
  }
 ],
 "metadata": {
  "kernelspec": {
   "display_name": "Python 3",
   "language": "python",
   "name": "python3"
  },
  "language_info": {
   "codemirror_mode": {
    "name": "ipython",
    "version": 3
   },
   "file_extension": ".py",
   "mimetype": "text/x-python",
   "name": "python",
   "nbconvert_exporter": "python",
   "pygments_lexer": "ipython3",
   "version": "3.8.3"
  }
 },
 "nbformat": 4,
 "nbformat_minor": 4
}
